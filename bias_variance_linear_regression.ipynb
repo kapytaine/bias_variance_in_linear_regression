{
 "cells": [
  {
   "cell_type": "markdown",
   "metadata": {},
   "source": [
    "**Thorough analysis of bias and variance in the linear regression**\n",
    "\n",
    "I had trouble to clearly understand the connection between the definitions of the [variance](https://en.wikipedia.org/wiki/Variance) and the [bias of an estimator](https://en.wikipedia.org/wiki/Bias_of_an_estimator) in my probability courses and the explanation in the machine learning courses I then followed. In the first case, the mathematical definitions seem thorough without any room for ambiguity, conversely to the second case where estimator bias and variance were regularly explained with visual explanations, like the well known illustration from [Understanding the Bias-Variance Tradeoff Scott Fortmann-Roe's article](http://scott.fortmann-roe.com/docs/BiasVariance.html), or with general rules like the following extracts: \"[Both bias and variance are connected to the model’s complexity. Low complexity means high bias and low variance. Increased complexity means low bias and high variance](https://medium.com/swlh/how-bias-and-variance-affect-a-machine-learning-model-6d258d9221db)\" or \"[The bias-variance tradeoff is a tradeoff between a complicated and simple model, in which an intermediate complexity is likely best](https://towardsdatascience.com/bias-variance-and-regularization-in-linear-regression-lasso-ridge-and-elastic-net-8bf81991d0c5)\". The \"[Bias and variance in linear models](https://towardsdatascience.com/bias-and-variance-in-linear-models-e772546e0c30)\" illustrates the bias and variance changes when adding regularization. At first glance I was satisfied with these two explanations, from my probability and my machine learning courses. But then, I started being annoyed with this second non-mathematical definition. So I decided to thoroughly study the linear regression to better understand the connection between the two definitions.\n",
    "\n",
    "In this notebook, I have analyzed the change of the bias and variance when adding explanatory variables (also named features) for a linear regression model. From the machine learning general explanations, I expect the bias to reduce and the variance to increase. However, what do improving or worsening the bias and the variance mean when the estimators are not a single scalar? Can we compare the bias and the covariance of two vector estimators? In this notebook, the analysis of the bias and variance of a vector estimator and of a single estimator are studied for the linear regression model when increasing the number of explanatory variables."
   ]
  },
  {
   "cell_type": "markdown",
   "metadata": {},
   "source": [
    "___\n",
    "# Packages"
   ]
  },
  {
   "cell_type": "code",
   "execution_count": 1,
   "metadata": {},
   "outputs": [
    {
     "data": {
      "application/javascript": [
       "\n",
       "            setTimeout(function() {\n",
       "                var nbb_cell_id = 1;\n",
       "                var nbb_unformatted_code = \"%load_ext nb_black\\nimport numpy as np\\nfrom scipy import stats\\nimport pandas as pd\\nimport matplotlib.pyplot as plt\";\n",
       "                var nbb_formatted_code = \"%load_ext nb_black\\nimport numpy as np\\nfrom scipy import stats\\nimport pandas as pd\\nimport matplotlib.pyplot as plt\";\n",
       "                var nbb_cells = Jupyter.notebook.get_cells();\n",
       "                for (var i = 0; i < nbb_cells.length; ++i) {\n",
       "                    if (nbb_cells[i].input_prompt_number == nbb_cell_id) {\n",
       "                        if (nbb_cells[i].get_text() == nbb_unformatted_code) {\n",
       "                             nbb_cells[i].set_text(nbb_formatted_code);\n",
       "                        }\n",
       "                        break;\n",
       "                    }\n",
       "                }\n",
       "            }, 500);\n",
       "            "
      ],
      "text/plain": [
       "<IPython.core.display.Javascript object>"
      ]
     },
     "metadata": {},
     "output_type": "display_data"
    }
   ],
   "source": [
    "%load_ext nb_black\n",
    "import numpy as np\n",
    "from scipy import stats\n",
    "import pandas as pd\n",
    "import matplotlib.pyplot as plt"
   ]
  },
  {
   "cell_type": "markdown",
   "metadata": {},
   "source": [
    "___\n",
    "# Data\n",
    "To illustrate my results, I built a dataset with some independent variables $X$ and a dependent variable, a.k.a. a target, depending linearly on the independent variables by means of a set of coefficients $\\beta$. I have deliberately chosen some coefficients with a 0 value to consider the case when a useless explanatory variable is added to the linear regression model. The measured target is then the product of the independent variables and the coefficients plus some noise $\\epsilon \\sim \\mathcal{N}(0,\\sigma^{2}I)$:\n",
    "$$Y=X\\beta+\\epsilon$$"
   ]
  },
  {
   "cell_type": "markdown",
   "metadata": {},
   "source": [
    "## Parameters"
   ]
  },
  {
   "cell_type": "code",
   "execution_count": 2,
   "metadata": {},
   "outputs": [
    {
     "data": {
      "application/javascript": [
       "\n",
       "            setTimeout(function() {\n",
       "                var nbb_cell_id = 2;\n",
       "                var nbb_unformatted_code = \"np.random.seed(4)  # from reproducibility purpose\\nm = 100\\nsigma_noise = 10\\nbeta = np.array([1, 0, 0, 2, -1, 5, 0, 0])\";\n",
       "                var nbb_formatted_code = \"np.random.seed(4)  # from reproducibility purpose\\nm = 100\\nsigma_noise = 10\\nbeta = np.array([1, 0, 0, 2, -1, 5, 0, 0])\";\n",
       "                var nbb_cells = Jupyter.notebook.get_cells();\n",
       "                for (var i = 0; i < nbb_cells.length; ++i) {\n",
       "                    if (nbb_cells[i].input_prompt_number == nbb_cell_id) {\n",
       "                        if (nbb_cells[i].get_text() == nbb_unformatted_code) {\n",
       "                             nbb_cells[i].set_text(nbb_formatted_code);\n",
       "                        }\n",
       "                        break;\n",
       "                    }\n",
       "                }\n",
       "            }, 500);\n",
       "            "
      ],
      "text/plain": [
       "<IPython.core.display.Javascript object>"
      ]
     },
     "metadata": {},
     "output_type": "display_data"
    }
   ],
   "source": [
    "np.random.seed(4)  # from reproducibility purpose\n",
    "m = 100\n",
    "sigma_noise = 10\n",
    "beta = np.array([1, 0, 0, 2, -1, 5, 0, 0])"
   ]
  },
  {
   "cell_type": "markdown",
   "metadata": {},
   "source": [
    "## Independent variables\n",
    "Some arbitrary independent variables."
   ]
  },
  {
   "cell_type": "code",
   "execution_count": 3,
   "metadata": {},
   "outputs": [
    {
     "data": {
      "application/javascript": [
       "\n",
       "            setTimeout(function() {\n",
       "                var nbb_cell_id = 3;\n",
       "                var nbb_unformatted_code = \"X = np.concatenate(\\n    (\\n        np.ones((m, 1)),\\n        np.random.gamma(1, scale=1.0, size=(m, 1)),\\n        np.random.normal(1, scale=1.0, size=(m, 1)),\\n        np.random.gamma(1, scale=1.0, size=(m, 1)),\\n        np.random.normal(1, scale=1.0, size=(m, 1)),\\n        np.random.normal(0, scale=1.0, size=(m, 1)),\\n        np.random.normal(0, scale=1.0, size=(m, 1)),\\n        np.random.normal(0, scale=1.0, size=(m, 1)),\\n    ),\\n    axis=1,\\n)\";\n",
       "                var nbb_formatted_code = \"X = np.concatenate(\\n    (\\n        np.ones((m, 1)),\\n        np.random.gamma(1, scale=1.0, size=(m, 1)),\\n        np.random.normal(1, scale=1.0, size=(m, 1)),\\n        np.random.gamma(1, scale=1.0, size=(m, 1)),\\n        np.random.normal(1, scale=1.0, size=(m, 1)),\\n        np.random.normal(0, scale=1.0, size=(m, 1)),\\n        np.random.normal(0, scale=1.0, size=(m, 1)),\\n        np.random.normal(0, scale=1.0, size=(m, 1)),\\n    ),\\n    axis=1,\\n)\";\n",
       "                var nbb_cells = Jupyter.notebook.get_cells();\n",
       "                for (var i = 0; i < nbb_cells.length; ++i) {\n",
       "                    if (nbb_cells[i].input_prompt_number == nbb_cell_id) {\n",
       "                        if (nbb_cells[i].get_text() == nbb_unformatted_code) {\n",
       "                             nbb_cells[i].set_text(nbb_formatted_code);\n",
       "                        }\n",
       "                        break;\n",
       "                    }\n",
       "                }\n",
       "            }, 500);\n",
       "            "
      ],
      "text/plain": [
       "<IPython.core.display.Javascript object>"
      ]
     },
     "metadata": {},
     "output_type": "display_data"
    }
   ],
   "source": [
    "X = np.concatenate(\n",
    "    (\n",
    "        np.ones((m, 1)),\n",
    "        np.random.gamma(1, scale=1.0, size=(m, 1)),\n",
    "        np.random.normal(1, scale=1.0, size=(m, 1)),\n",
    "        np.random.gamma(1, scale=1.0, size=(m, 1)),\n",
    "        np.random.normal(1, scale=1.0, size=(m, 1)),\n",
    "        np.random.normal(0, scale=1.0, size=(m, 1)),\n",
    "        np.random.normal(0, scale=1.0, size=(m, 1)),\n",
    "        np.random.normal(0, scale=1.0, size=(m, 1)),\n",
    "    ),\n",
    "    axis=1,\n",
    ")"
   ]
  },
  {
   "cell_type": "markdown",
   "metadata": {},
   "source": [
    "## Dependent variable"
   ]
  },
  {
   "cell_type": "code",
   "execution_count": 4,
   "metadata": {},
   "outputs": [
    {
     "data": {
      "application/javascript": [
       "\n",
       "            setTimeout(function() {\n",
       "                var nbb_cell_id = 4;\n",
       "                var nbb_unformatted_code = \"X_beta = np.matmul(X, beta)\";\n",
       "                var nbb_formatted_code = \"X_beta = np.matmul(X, beta)\";\n",
       "                var nbb_cells = Jupyter.notebook.get_cells();\n",
       "                for (var i = 0; i < nbb_cells.length; ++i) {\n",
       "                    if (nbb_cells[i].input_prompt_number == nbb_cell_id) {\n",
       "                        if (nbb_cells[i].get_text() == nbb_unformatted_code) {\n",
       "                             nbb_cells[i].set_text(nbb_formatted_code);\n",
       "                        }\n",
       "                        break;\n",
       "                    }\n",
       "                }\n",
       "            }, 500);\n",
       "            "
      ],
      "text/plain": [
       "<IPython.core.display.Javascript object>"
      ]
     },
     "metadata": {},
     "output_type": "display_data"
    }
   ],
   "source": [
    "X_beta = np.matmul(X, beta)"
   ]
  },
  {
   "cell_type": "markdown",
   "metadata": {},
   "source": [
    "___\n",
    "# Functions"
   ]
  },
  {
   "cell_type": "code",
   "execution_count": 5,
   "metadata": {},
   "outputs": [
    {
     "data": {
      "application/javascript": [
       "\n",
       "            setTimeout(function() {\n",
       "                var nbb_cell_id = 5;\n",
       "                var nbb_unformatted_code = \"def get_beta_hat(X0, y, alpha):\\n    \\\"\\\"\\\"\\n    Get beta statistic.\\n    When alpha=0, this is equivalent to the ordinary least squares parameter estimation.\\n    When alpha>0, this is equivalent to the paremeter estimation with L2 regularized least squares.\\n    \\\"\\\"\\\"\\n    X0t_X0 = np.matmul(X0.T, X0)\\n    X0t_X0_alphaI = X0t_X0 + alpha * np.eye(X0t_X0.shape[0])\\n    X0t_X0_alphaI_1 = np.linalg.inv(X0t_X0_alphaI)\\n    beta_hat = np.matmul(np.matmul(X0t_X0_alphaI_1, X0.T), y)\\n    return beta_hat\\n\\n\\ndef get_y_hat(X0, beta_hat):\\n    \\\"\\\"\\\"\\n    Get target statistic.\\n    \\\"\\\"\\\"\\n    return np.matmul(X0, beta_hat)\\n\\n\\ndef get_cov_mat(X0, alpha, sigma_noise):\\n    \\\"\\\"\\\"\\n    Get covariance matrix of target statistic.\\n    \\\"\\\"\\\"\\n    X0t_X0 = np.matmul(X0.T, X0)\\n    X0t_X0_alphaI = X0t_X0 + alpha * np.eye(X0t_X0.shape[0])\\n    X0t_X0_alphaI_1 = np.linalg.inv(X0t_X0_alphaI)\\n    XO_X0t_X0_alphaI_1_XOt = np.matmul(X0, np.matmul(X0t_X0_alphaI_1, X0.T))\\n    cov_mat = sigma_noise ** 2 * np.matmul(\\n        XO_X0t_X0_alphaI_1_XOt, XO_X0t_X0_alphaI_1_XOt\\n    )\\n    return cov_mat\\n\\n\\ndef get_biases(X0, X_beta, alpha):\\n    \\\"\\\"\\\"\\n    Get vector of biases of target statistic.\\n    \\\"\\\"\\\"\\n    X0t_X0 = np.matmul(X0.T, X0)\\n    X0t_X0_alphaI = X0t_X0 + alpha * np.eye(X0t_X0.shape[0])\\n    X0t_X0_alphaI_1 = np.linalg.inv(X0t_X0_alphaI)\\n    XO_X0t_X0_alphaI_1_XOt = np.matmul(X0, np.matmul(X0t_X0_alphaI_1, X0.T))\\n    return np.matmul(\\n        XO_X0t_X0_alphaI_1_XOt - np.eye(XO_X0t_X0_alphaI_1_XOt.shape[0]), X_beta\\n    )\\n\\n\\ndef get_expected_mse_var_term(X0, alpha, p0):\\n    \\\"\\\"\\\"\\n    Get mse var term.\\n    \\\"\\\"\\\"\\n    if alpha == 0:\\n        return p0\\n    else:\\n        d, P = np.linalg.eig(np.matmul(X0.T, X0))\\n        D_1 = np.diag(1 / d)\\n        D_aI_1 = np.diag(1 / (d + alpha))\\n        Pt_X0t = np.matmul(P.T, X0.T)\\n        Pt_X0t_2 = Pt_X0t ** 2\\n        return np.dot(\\n            d / ((d + alpha) ** 2), np.matmul((Pt_X0t_2), np.ones(Pt_X0t_2.shape[1]))\\n        )\\n\\n\\ndef get_common_results(X, x_cols, X_beta, alpha, sigma_noise):\\n    \\\"\\\"\\\"\\n    Get common results, the fixed values or the expectations of random variables.\\n    \\\"\\\"\\\"\\n    p0 = len(x_cols)\\n    X0 = X[:, x_cols]\\n    biases = get_biases(X0, X_beta, alpha)\\n    cov_mat = get_cov_mat(X0, alpha, sigma_noise)\\n    return p0, X0, biases, cov_mat\";\n",
       "                var nbb_formatted_code = \"def get_beta_hat(X0, y, alpha):\\n    \\\"\\\"\\\"\\n    Get beta statistic.\\n    When alpha=0, this is equivalent to the ordinary least squares parameter estimation.\\n    When alpha>0, this is equivalent to the paremeter estimation with L2 regularized least squares.\\n    \\\"\\\"\\\"\\n    X0t_X0 = np.matmul(X0.T, X0)\\n    X0t_X0_alphaI = X0t_X0 + alpha * np.eye(X0t_X0.shape[0])\\n    X0t_X0_alphaI_1 = np.linalg.inv(X0t_X0_alphaI)\\n    beta_hat = np.matmul(np.matmul(X0t_X0_alphaI_1, X0.T), y)\\n    return beta_hat\\n\\n\\ndef get_y_hat(X0, beta_hat):\\n    \\\"\\\"\\\"\\n    Get target statistic.\\n    \\\"\\\"\\\"\\n    return np.matmul(X0, beta_hat)\\n\\n\\ndef get_cov_mat(X0, alpha, sigma_noise):\\n    \\\"\\\"\\\"\\n    Get covariance matrix of target statistic.\\n    \\\"\\\"\\\"\\n    X0t_X0 = np.matmul(X0.T, X0)\\n    X0t_X0_alphaI = X0t_X0 + alpha * np.eye(X0t_X0.shape[0])\\n    X0t_X0_alphaI_1 = np.linalg.inv(X0t_X0_alphaI)\\n    XO_X0t_X0_alphaI_1_XOt = np.matmul(X0, np.matmul(X0t_X0_alphaI_1, X0.T))\\n    cov_mat = sigma_noise ** 2 * np.matmul(\\n        XO_X0t_X0_alphaI_1_XOt, XO_X0t_X0_alphaI_1_XOt\\n    )\\n    return cov_mat\\n\\n\\ndef get_biases(X0, X_beta, alpha):\\n    \\\"\\\"\\\"\\n    Get vector of biases of target statistic.\\n    \\\"\\\"\\\"\\n    X0t_X0 = np.matmul(X0.T, X0)\\n    X0t_X0_alphaI = X0t_X0 + alpha * np.eye(X0t_X0.shape[0])\\n    X0t_X0_alphaI_1 = np.linalg.inv(X0t_X0_alphaI)\\n    XO_X0t_X0_alphaI_1_XOt = np.matmul(X0, np.matmul(X0t_X0_alphaI_1, X0.T))\\n    return np.matmul(\\n        XO_X0t_X0_alphaI_1_XOt - np.eye(XO_X0t_X0_alphaI_1_XOt.shape[0]), X_beta\\n    )\\n\\n\\ndef get_expected_mse_var_term(X0, alpha, p0):\\n    \\\"\\\"\\\"\\n    Get mse var term.\\n    \\\"\\\"\\\"\\n    if alpha == 0:\\n        return p0\\n    else:\\n        d, P = np.linalg.eig(np.matmul(X0.T, X0))\\n        D_1 = np.diag(1 / d)\\n        D_aI_1 = np.diag(1 / (d + alpha))\\n        Pt_X0t = np.matmul(P.T, X0.T)\\n        Pt_X0t_2 = Pt_X0t ** 2\\n        return np.dot(\\n            d / ((d + alpha) ** 2), np.matmul((Pt_X0t_2), np.ones(Pt_X0t_2.shape[1]))\\n        )\\n\\n\\ndef get_common_results(X, x_cols, X_beta, alpha, sigma_noise):\\n    \\\"\\\"\\\"\\n    Get common results, the fixed values or the expectations of random variables.\\n    \\\"\\\"\\\"\\n    p0 = len(x_cols)\\n    X0 = X[:, x_cols]\\n    biases = get_biases(X0, X_beta, alpha)\\n    cov_mat = get_cov_mat(X0, alpha, sigma_noise)\\n    return p0, X0, biases, cov_mat\";\n",
       "                var nbb_cells = Jupyter.notebook.get_cells();\n",
       "                for (var i = 0; i < nbb_cells.length; ++i) {\n",
       "                    if (nbb_cells[i].input_prompt_number == nbb_cell_id) {\n",
       "                        if (nbb_cells[i].get_text() == nbb_unformatted_code) {\n",
       "                             nbb_cells[i].set_text(nbb_formatted_code);\n",
       "                        }\n",
       "                        break;\n",
       "                    }\n",
       "                }\n",
       "            }, 500);\n",
       "            "
      ],
      "text/plain": [
       "<IPython.core.display.Javascript object>"
      ]
     },
     "metadata": {},
     "output_type": "display_data"
    }
   ],
   "source": [
    "def get_beta_hat(X0, y, alpha):\n",
    "    \"\"\"\n",
    "    Get beta statistic.\n",
    "    When alpha=0, this is equivalent to the ordinary least squares parameter estimation.\n",
    "    When alpha>0, this is equivalent to the paremeter estimation with L2 regularized least squares.\n",
    "    \"\"\"\n",
    "    X0t_X0 = np.matmul(X0.T, X0)\n",
    "    X0t_X0_alphaI = X0t_X0 + alpha * np.eye(X0t_X0.shape[0])\n",
    "    X0t_X0_alphaI_1 = np.linalg.inv(X0t_X0_alphaI)\n",
    "    beta_hat = np.matmul(np.matmul(X0t_X0_alphaI_1, X0.T), y)\n",
    "    return beta_hat\n",
    "\n",
    "\n",
    "def get_y_hat(X0, beta_hat):\n",
    "    \"\"\"\n",
    "    Get target statistic.\n",
    "    \"\"\"\n",
    "    return np.matmul(X0, beta_hat)\n",
    "\n",
    "\n",
    "def get_cov_mat(X0, alpha, sigma_noise):\n",
    "    \"\"\"\n",
    "    Get covariance matrix of target statistic.\n",
    "    \"\"\"\n",
    "    X0t_X0 = np.matmul(X0.T, X0)\n",
    "    X0t_X0_alphaI = X0t_X0 + alpha * np.eye(X0t_X0.shape[0])\n",
    "    X0t_X0_alphaI_1 = np.linalg.inv(X0t_X0_alphaI)\n",
    "    XO_X0t_X0_alphaI_1_XOt = np.matmul(X0, np.matmul(X0t_X0_alphaI_1, X0.T))\n",
    "    cov_mat = sigma_noise ** 2 * np.matmul(\n",
    "        XO_X0t_X0_alphaI_1_XOt, XO_X0t_X0_alphaI_1_XOt\n",
    "    )\n",
    "    return cov_mat\n",
    "\n",
    "\n",
    "def get_biases(X0, X_beta, alpha):\n",
    "    \"\"\"\n",
    "    Get vector of biases of target statistic.\n",
    "    \"\"\"\n",
    "    X0t_X0 = np.matmul(X0.T, X0)\n",
    "    X0t_X0_alphaI = X0t_X0 + alpha * np.eye(X0t_X0.shape[0])\n",
    "    X0t_X0_alphaI_1 = np.linalg.inv(X0t_X0_alphaI)\n",
    "    XO_X0t_X0_alphaI_1_XOt = np.matmul(X0, np.matmul(X0t_X0_alphaI_1, X0.T))\n",
    "    return np.matmul(\n",
    "        XO_X0t_X0_alphaI_1_XOt - np.eye(XO_X0t_X0_alphaI_1_XOt.shape[0]), X_beta\n",
    "    )\n",
    "\n",
    "\n",
    "def get_expected_mse_var_term(X0, alpha, p0):\n",
    "    \"\"\"\n",
    "    Get mse var term.\n",
    "    \"\"\"\n",
    "    if alpha == 0:\n",
    "        return p0\n",
    "    else:\n",
    "        d, P = np.linalg.eig(np.matmul(X0.T, X0))\n",
    "        D_1 = np.diag(1 / d)\n",
    "        D_aI_1 = np.diag(1 / (d + alpha))\n",
    "        Pt_X0t = np.matmul(P.T, X0.T)\n",
    "        Pt_X0t_2 = Pt_X0t ** 2\n",
    "        return np.dot(\n",
    "            d / ((d + alpha) ** 2), np.matmul((Pt_X0t_2), np.ones(Pt_X0t_2.shape[1]))\n",
    "        )\n",
    "\n",
    "\n",
    "def get_common_results(X, x_cols, X_beta, alpha, sigma_noise):\n",
    "    \"\"\"\n",
    "    Get common results, the fixed values or the expectations of random variables.\n",
    "    \"\"\"\n",
    "    p0 = len(x_cols)\n",
    "    X0 = X[:, x_cols]\n",
    "    biases = get_biases(X0, X_beta, alpha)\n",
    "    cov_mat = get_cov_mat(X0, alpha, sigma_noise)\n",
    "    return p0, X0, biases, cov_mat"
   ]
  },
  {
   "cell_type": "code",
   "execution_count": 6,
   "metadata": {},
   "outputs": [
    {
     "data": {
      "application/javascript": [
       "\n",
       "            setTimeout(function() {\n",
       "                var nbb_cell_id = 6;\n",
       "                var nbb_unformatted_code = \"def make_experimentation(n, sigma_noise, m, X_beta, X0, alpha):\\n    \\\"\\\"\\\"\\n    Perform n experimentations and return n target and MSE statistics.\\n    \\\"\\\"\\\"\\n    y_hat_list = []\\n    mse_list = []\\n    for i in range(n):\\n        error = np.random.normal(scale=sigma_noise, size=m)\\n        y = X_beta + error\\n        beta_hat = get_beta_hat(X0, y, alpha)\\n        y_hat = get_y_hat(X0, beta_hat)\\n        y_hat_list.append(y_hat)\\n        mse = np.sum((y_hat - X_beta) ** 2)\\n        mse_list.append(mse)\\n    return y_hat_list, mse_list\";\n",
       "                var nbb_formatted_code = \"def make_experimentation(n, sigma_noise, m, X_beta, X0, alpha):\\n    \\\"\\\"\\\"\\n    Perform n experimentations and return n target and MSE statistics.\\n    \\\"\\\"\\\"\\n    y_hat_list = []\\n    mse_list = []\\n    for i in range(n):\\n        error = np.random.normal(scale=sigma_noise, size=m)\\n        y = X_beta + error\\n        beta_hat = get_beta_hat(X0, y, alpha)\\n        y_hat = get_y_hat(X0, beta_hat)\\n        y_hat_list.append(y_hat)\\n        mse = np.sum((y_hat - X_beta) ** 2)\\n        mse_list.append(mse)\\n    return y_hat_list, mse_list\";\n",
       "                var nbb_cells = Jupyter.notebook.get_cells();\n",
       "                for (var i = 0; i < nbb_cells.length; ++i) {\n",
       "                    if (nbb_cells[i].input_prompt_number == nbb_cell_id) {\n",
       "                        if (nbb_cells[i].get_text() == nbb_unformatted_code) {\n",
       "                             nbb_cells[i].set_text(nbb_formatted_code);\n",
       "                        }\n",
       "                        break;\n",
       "                    }\n",
       "                }\n",
       "            }, 500);\n",
       "            "
      ],
      "text/plain": [
       "<IPython.core.display.Javascript object>"
      ]
     },
     "metadata": {},
     "output_type": "display_data"
    }
   ],
   "source": [
    "def make_experimentation(n, sigma_noise, m, X_beta, X0, alpha):\n",
    "    \"\"\"\n",
    "    Perform n experimentations and return n target and MSE statistics.\n",
    "    \"\"\"\n",
    "    y_hat_list = []\n",
    "    mse_list = []\n",
    "    for i in range(n):\n",
    "        error = np.random.normal(scale=sigma_noise, size=m)\n",
    "        y = X_beta + error\n",
    "        beta_hat = get_beta_hat(X0, y, alpha)\n",
    "        y_hat = get_y_hat(X0, beta_hat)\n",
    "        y_hat_list.append(y_hat)\n",
    "        mse = np.sum((y_hat - X_beta) ** 2)\n",
    "        mse_list.append(mse)\n",
    "    return y_hat_list, mse_list"
   ]
  },
  {
   "cell_type": "markdown",
   "metadata": {},
   "source": [
    "___\n",
    "# Bias and variance analysis for vector estimators\n",
    "In this first section, let's look at the change of the bias and the variance of a vector estimator when adding new explanatory variables. This is a tool to compare vector estimators, this is the [mean squared error of an estimator](https://en.wikipedia.org/wiki/Mean_squared_error#Estimator). When the estimator is a scalar the definition is clear. However, when the estimator is multidimensional, I have found the two following definitions: $E[(\\hat{\\theta}-\\theta)(\\hat{\\theta}-\\theta)^{T})]$[[1]](https://cermics.enpc.fr/~delmas/Enseig/ensta_cours.pdf) which is a matrix and $E[\\lVert(\\hat{\\theta}-\\theta)\\rVert^{2}]$[[2]](http://theanalysisofdata.com/notes/estimators1.pdf)[[3]](https://lerasle.perso.math.cnrs.fr/docs/PC4Corrige.html) which is a scalar. Since I wasn't able so far to get rid of one the two definitions, I considered them both, first the matrix definition and secondly the scalar definition. When considering the MSE matrix, the comparison of two estimators can be performed by analyzing the sign of the difference of the two MSE matrices. If the resulting matrix is positive then the second vector estimator is better. If it is negative, then the first vector estimator is better. If the resulting is neither positive nor negative, nothing can be concluded."
   ]
  },
  {
   "cell_type": "markdown",
   "metadata": {},
   "source": [
    "$$\\begin{align}\n",
    "MSE&=E[(\\hat{Y} - X\\beta)(\\hat{Y} - X\\beta)^{T}]\\\\\n",
    "&=E[(\\hat{Y} - E[\\hat{Y}])(\\hat{Y} - E[\\hat{Y}])^{T}] + (E[\\hat{Y}] - X\\beta)(E[\\hat{Y}] - X\\beta)^{T}\\\\\n",
    "&= MSE_{var} + MSE_{bias} \\\\\n",
    "\\\\\n",
    "MSE_{var}&=E[(\\hat{Y} - E[\\hat{Y}])(\\hat{Y} - E[\\hat{Y}])^{T}] \\\\\n",
    "MSE_{bias}&=(E[\\hat{Y}] - X\\beta)(E[\\hat{Y}] - X\\beta)^{T}\n",
    "\\end{align}$$"
   ]
  },
  {
   "cell_type": "markdown",
   "metadata": {},
   "source": [
    "## MSE matrix\n",
    "In the linear regression case, the MSE matrix is:  \n",
    "$$\\begin{align}\n",
    "MSE&=E[(\\hat{Y} - X\\beta)(\\hat{Y} - X\\beta)^{T}]\\\\\n",
    "&=E[(\\hat{Y} - E[\\hat{Y}] + E[\\hat{Y}] - X\\beta)(\\hat{Y} - E[\\hat{Y}] + E[\\hat{Y}] - X\\beta)^{T}]\\\\\n",
    "&=E[(\\hat{Y} - E[\\hat{Y}])(\\hat{Y} - E[\\hat{Y}])^{T}] + E[(E[\\hat{Y}] - X\\beta)(E[\\hat{Y}] - X\\beta)^{T}] + E[(\\hat{Y} - E[\\hat{Y}])(E[\\hat{Y}] - X\\beta)^{T}] + E[(E[\\hat{Y}] - X\\beta)(\\hat{Y} - E[\\hat{Y}])^{T}]\\\\\n",
    "&=E[(\\hat{Y} - E[\\hat{Y}])(\\hat{Y} - E[\\hat{Y}])^{T}] + E[(E[\\hat{Y}] - X\\beta)(E[\\hat{Y}] - X\\beta)^{T}] + (E[\\hat{Y}] - E[\\hat{Y}])(E[\\hat{Y}] - X\\beta)^{T} + (E[\\hat{Y}] - X\\beta)(E[\\hat{Y}] - E[\\hat{Y}])^{T}\\\\\n",
    "&=E[(\\hat{Y} - E[\\hat{Y}])(\\hat{Y} - E[\\hat{Y}])^{T}] + E[(E[\\hat{Y}] - X\\beta)(E[\\hat{Y}] - X\\beta)^{T}]\\\\\n",
    "&=\\underbrace{E[(\\hat{Y} - E[\\hat{Y}])(\\hat{Y} - E[\\hat{Y}])^{T}]}_\\text{MSE_{var}} + \\underbrace{(E[\\hat{Y}] - X\\beta)(E[\\hat{Y}] - X\\beta)^{T}}_\\text{MSE_{bias}}\n",
    "\\end{align}$$\n",
    "\n",
    "Considering the following notation:\n",
    "$$\\begin{align}\n",
    "MSE_{var}&=E[(\\hat{Y} - E[\\hat{Y}])(\\hat{Y} - E[\\hat{Y}])^{T}] \\\\\n",
    "MSE_{bias}&=(E[\\hat{Y}] - X\\beta)(E[\\hat{Y}] - X\\beta)^{T}\n",
    "\\end{align}$$"
   ]
  },
  {
   "cell_type": "markdown",
   "metadata": {},
   "source": [
    "### Frequentist approach\n",
    "In the frequentist approach, the parameter estimation depends on the considered independent variables. Let's assume, only a subset $X_0$ (with $p_{0}$ columns) of $X$ has been selected. The estimated parameters are then:\n",
    "$$\\hat{\\beta_{0}}=(X_{0}^{T}X_{0})^{-1}X_{0}^{T}Y$$\n",
    "\n",
    "And consequently, the estimated predictions are:\n",
    "$$\\hat{Y_{0}}=X_{0}\\hat{\\beta_{0}}=X_{0}(X_{0}^{T}X_{0})^{-1}X_{0}^{T}Y$$\n",
    "\n",
    "The expected value of $\\hat{Y_{0}}$ is then:\n",
    "$$E[\\hat{Y_{0}}]=X_{0}(X_{0}^{T}X_{0})^{-1}X_{0}^{T}X\\beta$$\n",
    "\n",
    "___\n",
    "* **$MSE_{var}$**\n",
    "\n",
    "Let's derive the variance term of the MSE:\n",
    "$$\\begin{align}\n",
    "\\hat{Y_{0}} - E[\\hat{Y_{0}}] &= X_{0}(X_{0}^{T}X_{0})^{-1}X_{0}^{T}Y - E[\\hat{Y_{0}}]\\\\\n",
    "&= X_{0}(X_{0}^{T}X_{0})^{-1}X_{0}^{T}\\epsilon\n",
    "\\end{align}$$\n",
    "\n",
    "Hence:\n",
    "$$\\begin{align}\n",
    "MSE_{var}(X_{0}) &= E[(X_{0}(X_{0}^{T}X_{0})^{-1}X_{0}^{T}\\epsilon)(X_{0}(X_{0}^{T}X_{0})^{-1}X_{0}^{T}\\epsilon)^{T}] \\\\\n",
    "&= X_{0}(X_{0}^{T}X_{0})^{-1}X_{0}^{T} E[\\epsilon \\epsilon^{T}] X_{0}(X_{0}^{T}X_{0})^{-1}X_{0}^{T} \\\\\n",
    "&= X_{0}(X_{0}^{T}X_{0})^{-1}X_{0}^{T} \\sigma^{2} I X_{0}(X_{0}^{T}X_{0})^{-1}X_{0}^{T} \\\\\n",
    "&= \\sigma^{2} X_{0}(X_{0}^{T}X_{0})^{-1}X_{0}^{T}\n",
    "\\end{align}$$\n",
    "\n",
    "Let's compare $MSE_{var}(X_{0})$ and $MSE_{var}(X_{1})$, with $X_{1}$ including $X_{0}$ (for instance $X_{1}=\\begin{pmatrix} X_{0} & x_{p_{0}+1} \\end{pmatrix}$). We can show that $MSE_{var}(X_{1}) - MSE_{var}(X_{0})$ is positive. Let's note $E_{i} = \\{X_{i}u | u \\in \\mathbb{R}^{p_{i}}\\}$. $X_{i}(X_{i}^{T}X_{i})^{-1}X_{i}^{T}$ is a projector, so $u^{T}X_{i}(X_{i}^{T}X_{i})^{-1}X_{i}^{T}u = ||u_{E_{i}}||^{2}$.\n",
    "$$\\begin{align}\n",
    "\\forall u \\in \\mathbb{R}^{n} \\quad u^{T} \\sigma^{2} (X_{1}(X_{1}^{T}X_{1})^{-1}X_{1}^{T} - X_{0}(X_{0}^{T}X_{0})^{-1}X_{0}^{T}) u &= \\sigma^{2} (||u_{E_{1}}||^{2} - ||u_{E_{0}}||^{2}) \\\\\n",
    "&= \\sigma^{2}  ( (||u||^{2} - ||u_{E_{1}^{\\bot}}||^{2}) - (||u||^{2} - ||u_{E_{0}^{\\bot}}||^{2})) \\\\\n",
    "&= \\sigma^{2}  ( ||u_{E_{0}^{\\bot}}||^{2} - ||u_{E_{1}^{\\bot}}||^{2} ) \\\\\n",
    "&= \\sigma^{2}  ( \\min\\limits_{v\\in\\mathbb{R}^{p_{0}}}(||u - X_{0}v||^{2} - \\min\\limits_{v\\in\\mathbb{R}^{p_{1}}}(||u - X_{1}v||^{2} )\n",
    "\\end{align}$$\n",
    "\n",
    "Since $X_{1}$ contains $X_{0}$, then the result of the second minimization problem is lower than (or equal to) the first one. The MSE matrix resulting from the two estimator MSE matrix difference is then positive. The matrix $\\sigma^{2} X_{1}(X_{1}^{T}X_{1})^{-1}X_{1}^{T}$ is then greater than the matrix $\\sigma^{2} X_{0}(X_{0}^{T}X_{0})^{-1}X_{0}^{T}$.\n",
    "\n",
    "**The variance term of the MSE matrix then increase when adding new independent variable, whether this is a useful one variable ($\\beta_{i} \\neq 0$) or not ($\\beta_{i} = 0$).**\n",
    "\n",
    "___\n",
    "* **$MSE_{bias}$**\n",
    "\n",
    "Let derive the bias term of the MSE:\n",
    "$$E[\\hat{Y_{0}}] - X\\beta = (X_{0}(X_{0}^{T}X_{0})^{-1}X_{0}^{T}-I)X\\beta$$\n",
    "\n",
    "Hence:\n",
    "$$\\begin{align}\n",
    "MSE_{bias} &= (X_{0}(X_{0}^{T}X_{0})^{-1}X_{0}^{T}-I)X\\beta ((X_{0}(X_{0}^{T}X_{0})^{-1}X_{0}^{T}-I)X\\beta)^{T} \\\\\n",
    "&= (X_{0}(X_{0}^{T}X_{0})^{-1}X_{0}^{T}-I)X\\beta \\beta^{T}X^{T} (X_{0}(X_{0}^{T}X_{0})^{-1}X_{0}^{T}-I)\n",
    "\\end{align}$$\n",
    "\n",
    "**Unfortunately, nothing can be concluded for this term.**"
   ]
  },
  {
   "cell_type": "code",
   "execution_count": 7,
   "metadata": {},
   "outputs": [
    {
     "data": {
      "application/javascript": [
       "\n",
       "            setTimeout(function() {\n",
       "                var nbb_cell_id = 7;\n",
       "                var nbb_unformatted_code = \"# parameters\\nalpha = 0  # since we are in a frequentist approach without regularization\\n\\n# initialization\\nmse_mat_bias_list = []\\nmse_mat_var_list = []\\n\\n# loop over an increasing number of independent variables\\nfor nb_x in range(1, X.shape[1] + 1):\\n    x_cols = list(range(nb_x))\\n\\n    _, X0, biases, _ = get_common_results(X, x_cols, X_beta, alpha, sigma_noise)\\n    mse_mat_bias_list.append(\\n        np.matmul(\\n            np.reshape(biases, (len(biases), 1)), np.reshape(biases, (1, len(biases)))\\n        )\\n    )\\n    mse_mat_var_list.append(get_cov_mat(X0, alpha, sigma_noise))\";\n",
       "                var nbb_formatted_code = \"# parameters\\nalpha = 0  # since we are in a frequentist approach without regularization\\n\\n# initialization\\nmse_mat_bias_list = []\\nmse_mat_var_list = []\\n\\n# loop over an increasing number of independent variables\\nfor nb_x in range(1, X.shape[1] + 1):\\n    x_cols = list(range(nb_x))\\n\\n    _, X0, biases, _ = get_common_results(X, x_cols, X_beta, alpha, sigma_noise)\\n    mse_mat_bias_list.append(\\n        np.matmul(\\n            np.reshape(biases, (len(biases), 1)), np.reshape(biases, (1, len(biases)))\\n        )\\n    )\\n    mse_mat_var_list.append(get_cov_mat(X0, alpha, sigma_noise))\";\n",
       "                var nbb_cells = Jupyter.notebook.get_cells();\n",
       "                for (var i = 0; i < nbb_cells.length; ++i) {\n",
       "                    if (nbb_cells[i].input_prompt_number == nbb_cell_id) {\n",
       "                        if (nbb_cells[i].get_text() == nbb_unformatted_code) {\n",
       "                             nbb_cells[i].set_text(nbb_formatted_code);\n",
       "                        }\n",
       "                        break;\n",
       "                    }\n",
       "                }\n",
       "            }, 500);\n",
       "            "
      ],
      "text/plain": [
       "<IPython.core.display.Javascript object>"
      ]
     },
     "metadata": {},
     "output_type": "display_data"
    }
   ],
   "source": [
    "# parameters\n",
    "alpha = 0  # since we are in a frequentist approach without regularization\n",
    "\n",
    "# initialization\n",
    "mse_mat_bias_list = []\n",
    "mse_mat_var_list = []\n",
    "\n",
    "# loop over an increasing number of independent variables\n",
    "for nb_x in range(1, X.shape[1] + 1):\n",
    "    x_cols = list(range(nb_x))\n",
    "\n",
    "    _, X0, biases, _ = get_common_results(X, x_cols, X_beta, alpha, sigma_noise)\n",
    "    mse_mat_bias_list.append(\n",
    "        np.matmul(\n",
    "            np.reshape(biases, (len(biases), 1)), np.reshape(biases, (1, len(biases)))\n",
    "        )\n",
    "    )\n",
    "    mse_mat_var_list.append(get_cov_mat(X0, alpha, sigma_noise))"
   ]
  },
  {
   "cell_type": "markdown",
   "metadata": {},
   "source": [
    "#### $MSE_{var}$ increases when adding explanatory variable"
   ]
  },
  {
   "cell_type": "code",
   "execution_count": 8,
   "metadata": {},
   "outputs": [
    {
     "name": "stdout",
     "output_type": "stream",
     "text": [
      "(-1.15094384258883e-14+0j) (99.9999999999997+0j)\n",
      "(-1.7658427167671792e-14+0j) (100.00000000000004+0j)\n",
      "(-2.9363277131202554e-14+0j) (99.99999999999997+0j)\n",
      "(-3.281628950474632e-13+0j) (100.00000000000006+0j)\n",
      "(-8.352266027704196e-14+0j) (99.99999999999987+0j)\n",
      "(-2.3187862086841947e-13+0j) (100.00000000000011+0j)\n",
      "(-4.1487064488299177e-14-5.1414772292082595e-15j) (100.00000000000017+0j)\n"
     ]
    },
    {
     "data": {
      "application/javascript": [
       "\n",
       "            setTimeout(function() {\n",
       "                var nbb_cell_id = 8;\n",
       "                var nbb_unformatted_code = \"for ii in range(0, X.shape[1] - 1):\\n    eigvals = np.linalg.eigvals(mse_mat_var_list[ii + 1] - mse_mat_var_list[ii])\\n    print(np.min(eigvals), np.max(eigvals))\";\n",
       "                var nbb_formatted_code = \"for ii in range(0, X.shape[1] - 1):\\n    eigvals = np.linalg.eigvals(mse_mat_var_list[ii + 1] - mse_mat_var_list[ii])\\n    print(np.min(eigvals), np.max(eigvals))\";\n",
       "                var nbb_cells = Jupyter.notebook.get_cells();\n",
       "                for (var i = 0; i < nbb_cells.length; ++i) {\n",
       "                    if (nbb_cells[i].input_prompt_number == nbb_cell_id) {\n",
       "                        if (nbb_cells[i].get_text() == nbb_unformatted_code) {\n",
       "                             nbb_cells[i].set_text(nbb_formatted_code);\n",
       "                        }\n",
       "                        break;\n",
       "                    }\n",
       "                }\n",
       "            }, 500);\n",
       "            "
      ],
      "text/plain": [
       "<IPython.core.display.Javascript object>"
      ]
     },
     "metadata": {},
     "output_type": "display_data"
    }
   ],
   "source": [
    "for ii in range(0, X.shape[1] - 1):\n",
    "    eigvals = np.linalg.eigvals(mse_mat_var_list[ii + 1] - mse_mat_var_list[ii])\n",
    "    print(np.min(eigvals), np.max(eigvals))"
   ]
  },
  {
   "cell_type": "markdown",
   "metadata": {},
   "source": [
    "#### $MSE_{bias}$ does not increase of decrease when adding explanatory variable"
   ]
  },
  {
   "cell_type": "code",
   "execution_count": 9,
   "metadata": {},
   "outputs": [
    {
     "name": "stdout",
     "output_type": "stream",
     "text": [
      "(-94.44303714738214+0j) (90.6643423058386+0j)\n",
      "(-133.3040850229547+0j) (125.87485202627272+0j)\n",
      "(-727.2280381028207+0j) (538.1279597151861+0j)\n",
      "(-570.2210474561782+0j) (440.68785767074365+0j)\n",
      "(-1939.9621997920299+0j) (3.053566645191639e-14+0j)\n",
      "(-5.537875687571283e-28+0j) (8.140146006108649e-28+0j)\n",
      "(-9.362310256271155e-28+0j) (5.434455097821107e-28+0j)\n"
     ]
    },
    {
     "data": {
      "application/javascript": [
       "\n",
       "            setTimeout(function() {\n",
       "                var nbb_cell_id = 9;\n",
       "                var nbb_unformatted_code = \"for ii in range(0, X.shape[1] - 1):\\n    eigvals = np.linalg.eigvals(mse_mat_bias_list[ii + 1] - mse_mat_bias_list[ii])\\n    print(np.min(eigvals), np.max(eigvals))\";\n",
       "                var nbb_formatted_code = \"for ii in range(0, X.shape[1] - 1):\\n    eigvals = np.linalg.eigvals(mse_mat_bias_list[ii + 1] - mse_mat_bias_list[ii])\\n    print(np.min(eigvals), np.max(eigvals))\";\n",
       "                var nbb_cells = Jupyter.notebook.get_cells();\n",
       "                for (var i = 0; i < nbb_cells.length; ++i) {\n",
       "                    if (nbb_cells[i].input_prompt_number == nbb_cell_id) {\n",
       "                        if (nbb_cells[i].get_text() == nbb_unformatted_code) {\n",
       "                             nbb_cells[i].set_text(nbb_formatted_code);\n",
       "                        }\n",
       "                        break;\n",
       "                    }\n",
       "                }\n",
       "            }, 500);\n",
       "            "
      ],
      "text/plain": [
       "<IPython.core.display.Javascript object>"
      ]
     },
     "metadata": {},
     "output_type": "display_data"
    }
   ],
   "source": [
    "for ii in range(0, X.shape[1] - 1):\n",
    "    eigvals = np.linalg.eigvals(mse_mat_bias_list[ii + 1] - mse_mat_bias_list[ii])\n",
    "    print(np.min(eigvals), np.max(eigvals))"
   ]
  },
  {
   "cell_type": "markdown",
   "metadata": {},
   "source": [
    "### Bayesian approach\n",
    "In the bayesian approach, the results are the following:\n",
    "$$\\hat{\\beta_{0}}=(X_{0}^{T}X_{0}+\\alpha I)^{-1}X_{0}^{T}Y$$\n",
    "$$\\hat{Y_{0}}=X_{0}\\hat{\\beta_{0}}=X_{0}(X_{0}^{T}X_{0}+\\alpha I)^{-1}X_{0}^{T}Y$$\n",
    "The expected value of $\\hat{Y_{0}}$ is then:\n",
    "$$E[\\hat{Y_{0}}]=X_{0}(X_{0}^{T}X_{0}+\\alpha I)^{-1}X_{0}^{T}X\\beta$$\n",
    "\n",
    "___\n",
    "* **$MSE_{var}$**\n",
    "\n",
    "Let's compare the variance term in the bayesian approach vs in the frequentist approach.\n",
    "$$\\begin{align}\n",
    "\\hat{Y_{0}} - E[\\hat{Y_{0}}] &= X_{0}(X_{0}^{T}X_{0}+\\alpha I)^{-1}X_{0}^{T}Y - E[\\hat{Y_{0}}]\\\\\n",
    "&= X_{0}(X_{0}^{T}X_{0}+\\alpha I)^{-1}X_{0}^{T}\\epsilon\n",
    "\\end{align}$$\n",
    "\n",
    "Hence:\n",
    "$$\\begin{align}\n",
    "MSE_{var}(X_{0}) &= E[(X_{0}(X_{0}^{T}X_{0}+\\alpha I)^{-1}X_{0}^{T}\\epsilon)(X_{0}(X_{0}^{T}X_{0}+\\alpha I)^{-1}X_{0}^{T}\\epsilon)^{T}] \\\\\n",
    "&= X_{0}(X_{0}^{T}X_{0}+\\alpha I)^{-1}X_{0}^{T} E[\\epsilon \\epsilon^{T}] X_{0}(X_{0}^{T}X_{0}+\\alpha I)^{-1}X_{0}^{T} \\\\\n",
    "&= X_{0}(X_{0}^{T}X_{0}+\\alpha I)^{-1}X_{0}^{T} \\sigma^{2} I X_{0}(X_{0}^{T}X_{0}+\\alpha I)^{-1}X_{0}^{T} \\\\\n",
    "&= \\sigma^{2}X_{0}(X_{0}^{T}X_{0}+\\alpha I)^{-1}X_{0}^{T} X_{0}(X_{0}^{T}X_{0}+\\alpha I)^{-1}X_{0}^{T}\n",
    "\\end{align}$$\n",
    "\n",
    "**Unfortunately, nothing can be concluded for this term.**\n",
    "\n",
    "___\n",
    "* **$MSE_{bias}$**\n",
    "\n",
    "Let derive the bias term of the MSE:\n",
    "$$E[\\hat{Y_{0}}] - X\\beta = (X_{0}(X_{0}^{T}X_{0}+\\alpha I)^{-1}X_{0}^{T}-I)X\\beta$$\n",
    "\n",
    "Hence:\n",
    "$$\\begin{align}\n",
    "MSE_{bias} &= (X_{0}(X_{0}^{T}X_{0}+\\alpha I)^{-1}X_{0}^{T}-I)X\\beta ((X_{0}(X_{0}^{T}X_{0}+\\alpha I)^{-1}X_{0}^{T}-I)X\\beta)^{T} \\\\\n",
    "&= (X_{0}(X_{0}^{T}X_{0}+\\alpha I)^{-1}X_{0}^{T}-I)X\\beta \\beta^{T}X^{T} (X_{0}(X_{0}^{T}X_{0}+\\alpha I)^{-1}X_{0}^{T}-I)\n",
    "\\end{align}$$\n",
    "\n",
    "**Unfortunately, nothing can be concluded for this term.**"
   ]
  },
  {
   "cell_type": "code",
   "execution_count": 10,
   "metadata": {},
   "outputs": [
    {
     "data": {
      "application/javascript": [
       "\n",
       "            setTimeout(function() {\n",
       "                var nbb_cell_id = 10;\n",
       "                var nbb_unformatted_code = \"# parameters\\nalpha = 40  # since we are in a frequentist approach without regularization\\n\\n# initialization\\nmse_mat_bias_list = []\\nmse_mat_var_list = []\\n\\n# loop over an increasing number of independent variables\\nfor nb_x in range(1, X.shape[1] + 1):\\n    x_cols = list(range(nb_x))\\n\\n    _, X0, biases, _ = get_common_results(X, x_cols, X_beta, alpha, sigma_noise)\\n    mse_mat_bias_list.append(\\n        np.matmul(\\n            np.reshape(biases, (len(biases), 1)), np.reshape(biases, (1, len(biases)))\\n        )\\n    )\\n    mse_mat_var_list.append(get_cov_mat(X0, alpha, sigma_noise))\";\n",
       "                var nbb_formatted_code = \"# parameters\\nalpha = 40  # since we are in a frequentist approach without regularization\\n\\n# initialization\\nmse_mat_bias_list = []\\nmse_mat_var_list = []\\n\\n# loop over an increasing number of independent variables\\nfor nb_x in range(1, X.shape[1] + 1):\\n    x_cols = list(range(nb_x))\\n\\n    _, X0, biases, _ = get_common_results(X, x_cols, X_beta, alpha, sigma_noise)\\n    mse_mat_bias_list.append(\\n        np.matmul(\\n            np.reshape(biases, (len(biases), 1)), np.reshape(biases, (1, len(biases)))\\n        )\\n    )\\n    mse_mat_var_list.append(get_cov_mat(X0, alpha, sigma_noise))\";\n",
       "                var nbb_cells = Jupyter.notebook.get_cells();\n",
       "                for (var i = 0; i < nbb_cells.length; ++i) {\n",
       "                    if (nbb_cells[i].input_prompt_number == nbb_cell_id) {\n",
       "                        if (nbb_cells[i].get_text() == nbb_unformatted_code) {\n",
       "                             nbb_cells[i].set_text(nbb_formatted_code);\n",
       "                        }\n",
       "                        break;\n",
       "                    }\n",
       "                }\n",
       "            }, 500);\n",
       "            "
      ],
      "text/plain": [
       "<IPython.core.display.Javascript object>"
      ]
     },
     "metadata": {},
     "output_type": "display_data"
    }
   ],
   "source": [
    "# parameters\n",
    "alpha = 40  # since we are in a frequentist approach without regularization\n",
    "\n",
    "# initialization\n",
    "mse_mat_bias_list = []\n",
    "mse_mat_var_list = []\n",
    "\n",
    "# loop over an increasing number of independent variables\n",
    "for nb_x in range(1, X.shape[1] + 1):\n",
    "    x_cols = list(range(nb_x))\n",
    "\n",
    "    _, X0, biases, _ = get_common_results(X, x_cols, X_beta, alpha, sigma_noise)\n",
    "    mse_mat_bias_list.append(\n",
    "        np.matmul(\n",
    "            np.reshape(biases, (len(biases), 1)), np.reshape(biases, (1, len(biases)))\n",
    "        )\n",
    "    )\n",
    "    mse_mat_var_list.append(get_cov_mat(X0, alpha, sigma_noise))"
   ]
  },
  {
   "cell_type": "markdown",
   "metadata": {},
   "source": [
    "#### $MSE_{var}$ does not increase of decrease when adding explanatory variable"
   ]
  },
  {
   "cell_type": "code",
   "execution_count": 11,
   "metadata": {},
   "outputs": [
    {
     "name": "stdout",
     "output_type": "stream",
     "text": [
      "(-3.267029962486426+0j) (46.748650742125186+0j)\n",
      "(-2.292877523253305+0j) (47.53946785501041+0j)\n",
      "(-1.2495557385860738+0j) (41.22918650958304+0j)\n",
      "(-1.0279344778987423+0j) (49.028793803920976+0j)\n",
      "(-0.037390864780485526+0j) (43.78267737127335+0j)\n",
      "(-0.2797828810320388+0j) (48.14628628697182+0j)\n",
      "(-0.3320741414618705+0j) (45.417980988033534+0j)\n"
     ]
    },
    {
     "data": {
      "application/javascript": [
       "\n",
       "            setTimeout(function() {\n",
       "                var nbb_cell_id = 11;\n",
       "                var nbb_unformatted_code = \"for ii in range(0, X.shape[1] - 1):\\n    eigvals = np.linalg.eigvals(mse_mat_var_list[ii + 1] - mse_mat_var_list[ii])\\n    print(np.min(eigvals), np.max(eigvals))\";\n",
       "                var nbb_formatted_code = \"for ii in range(0, X.shape[1] - 1):\\n    eigvals = np.linalg.eigvals(mse_mat_var_list[ii + 1] - mse_mat_var_list[ii])\\n    print(np.min(eigvals), np.max(eigvals))\";\n",
       "                var nbb_cells = Jupyter.notebook.get_cells();\n",
       "                for (var i = 0; i < nbb_cells.length; ++i) {\n",
       "                    if (nbb_cells[i].input_prompt_number == nbb_cell_id) {\n",
       "                        if (nbb_cells[i].get_text() == nbb_unformatted_code) {\n",
       "                             nbb_cells[i].set_text(nbb_formatted_code);\n",
       "                        }\n",
       "                        break;\n",
       "                    }\n",
       "                }\n",
       "            }, 500);\n",
       "            "
      ],
      "text/plain": [
       "<IPython.core.display.Javascript object>"
      ]
     },
     "metadata": {},
     "output_type": "display_data"
    }
   ],
   "source": [
    "for ii in range(0, X.shape[1] - 1):\n",
    "    eigvals = np.linalg.eigvals(mse_mat_var_list[ii + 1] - mse_mat_var_list[ii])\n",
    "    print(np.min(eigvals), np.max(eigvals))"
   ]
  },
  {
   "cell_type": "markdown",
   "metadata": {},
   "source": [
    "#### $MSE_{bias}$ does not increase of decrease when adding explanatory variable"
   ]
  },
  {
   "cell_type": "code",
   "execution_count": 12,
   "metadata": {},
   "outputs": [
    {
     "name": "stdout",
     "output_type": "stream",
     "text": [
      "(-107.07955970917595+0j) (113.38069863891053+0j)\n",
      "(-79.57954124689562+0j) (84.02201418468508+0j)\n",
      "(-594.4019294824184+0j) (386.4089629314528+0j)\n",
      "(-291.24919186893703+0j) (207.58430762086232+0j)\n",
      "(-1767.8758822188888+0j) (25.971031084769667+0j)\n",
      "(-41.89459345878093+0j) (41.84231402122852+0j)\n",
      "(-25.616209563136383+0j) (25.440386019080304+0j)\n"
     ]
    },
    {
     "data": {
      "application/javascript": [
       "\n",
       "            setTimeout(function() {\n",
       "                var nbb_cell_id = 12;\n",
       "                var nbb_unformatted_code = \"for ii in range(0, X.shape[1] - 1):\\n    eigvals = np.linalg.eigvals(mse_mat_bias_list[ii + 1] - mse_mat_bias_list[ii])\\n    print(np.min(eigvals), np.max(eigvals))\";\n",
       "                var nbb_formatted_code = \"for ii in range(0, X.shape[1] - 1):\\n    eigvals = np.linalg.eigvals(mse_mat_bias_list[ii + 1] - mse_mat_bias_list[ii])\\n    print(np.min(eigvals), np.max(eigvals))\";\n",
       "                var nbb_cells = Jupyter.notebook.get_cells();\n",
       "                for (var i = 0; i < nbb_cells.length; ++i) {\n",
       "                    if (nbb_cells[i].input_prompt_number == nbb_cell_id) {\n",
       "                        if (nbb_cells[i].get_text() == nbb_unformatted_code) {\n",
       "                             nbb_cells[i].set_text(nbb_formatted_code);\n",
       "                        }\n",
       "                        break;\n",
       "                    }\n",
       "                }\n",
       "            }, 500);\n",
       "            "
      ],
      "text/plain": [
       "<IPython.core.display.Javascript object>"
      ]
     },
     "metadata": {},
     "output_type": "display_data"
    }
   ],
   "source": [
    "for ii in range(0, X.shape[1] - 1):\n",
    "    eigvals = np.linalg.eigvals(mse_mat_bias_list[ii + 1] - mse_mat_bias_list[ii])\n",
    "    print(np.min(eigvals), np.max(eigvals))"
   ]
  },
  {
   "cell_type": "markdown",
   "metadata": {},
   "source": [
    "## MSE scalar\n",
    "In this part, I have considered the scalar definition of the MSE. The MSE value breaks down to two terms linked to the variance and bias.\n",
    "$$\\begin{align}\n",
    "MSE&=E[||\\hat{Y} - X\\beta||^{2}]\\\\\n",
    "&=E[||\\hat{Y} - E[\\hat{Y}] + E[\\hat{Y}] - X\\beta||^{2}]\\\\\n",
    "&=E[||\\hat{Y} - E[\\hat{Y}]||^{2}] + E[||E[\\hat{Y}] - X\\beta||^{2}] + 2E[(\\hat{Y} - E[\\hat{Y}])^{T}(E[\\hat{Y}] - X\\beta)]\\\\\n",
    "&=\\underbrace{E[||\\hat{Y} - E[\\hat{Y}]||^{2}]}_\\text{MSE_{var}} + \\underbrace{||E[\\hat{Y}] - X\\beta||^{2}}_\\text{MSE_{bias}}\n",
    "\\end{align}$$\n",
    "\n",
    "Considering the following notation:\n",
    "$$\\begin{align}\n",
    "MSE_{var}=E[||\\hat{Y} - E[\\hat{Y}]||^{2}]\\\\\n",
    "MSE_{bias}=||E[\\hat{Y}] - X\\beta||^{2}\n",
    "\\end{align}$$"
   ]
  },
  {
   "cell_type": "markdown",
   "metadata": {},
   "source": [
    "### Frequentist approach\n",
    "In the frequentist approach, the parameter estimation depends on the considered independent variables. Let's assume, only a subset $X_0$ (with $p_{0}$ columns) of $X$ has been selected. The estimated parameter is then:\n",
    "$$\\hat{\\beta_{0}}=(X_{0}^{T}X_{0})^{-1}X_{0}^{T}Y$$\n",
    "And consequently, the estimated prediction is:\n",
    "$$\\hat{Y_{0}}=X_{0}\\hat{\\beta_{0}}=X_{0}(X_{0}^{T}X_{0})^{-1}X_{0}^{T}Y$$\n",
    "\n",
    "The expected value of $\\hat{Y_{0}}$ is then:\n",
    "$$E[\\hat{Y_{0}}]=X_{0}(X_{0}^{T}X_{0})^{-1}X_{0}^{T}X\\beta$$\n",
    "\n",
    "___\n",
    "* **$MSE_{var}$**\n",
    "\n",
    "Let derive the variance term of the MSE:\n",
    "$$\\begin{align}\n",
    "\\hat{Y_{0}} - E[\\hat{Y_{0}}] &= X_{0}(X_{0}^{T}X_{0})^{-1}X_{0}^{T}Y - E[\\hat{Y_{0}}]\\\\\n",
    "&= X_{0}(X_{0}^{T}X_{0})^{-1}X_{0}^{T}\\epsilon\n",
    "\\end{align}$$\n",
    "Since $X_{0}(X_{0}^{T}X_{0})^{-1}X_{0}$ is a projector of rank $p_{0}$ (since all variables are assumed to be linearly independent), by means of Cochran theorem, we have the following result:\n",
    "$$\\frac{||\\hat{Y_{0}} - E[\\hat{Y_{0}}]||^{2}}{\\sigma^{2}}\\sim\\chi^{2}(p_{0})$$\n",
    "Then:\n",
    "$$\\boxed{E[||\\hat{Y_{0}} - E[\\hat{Y_{0}}]||^{2}]=\\sigma^{2}p_{0}}$$\n",
    "**$MSE_{var}$ increases when $p_{0}$ increases, whether a new useful independent variable is added or not.**\n",
    "\n",
    "___\n",
    "* **$MSE_{bias}$**\n",
    "\n",
    "Let derive the bias term of the MSE:\n",
    "$$E[\\hat{Y_{0}}] - X\\beta = (X_{0}(X_{0}^{T}X_{0})^{-1}X_{0}^{T}-I)X\\beta$$\n",
    "\n",
    "$I-X_{0}(X_{0}^{T}X_{0})^{-1}X_{0}^{T}$ is as also a projector of rank $m-p_{0}$. Then:\n",
    "$$\\boxed{||E[\\hat{Y_{0}}] - X\\beta||^{2}=\\min\\limits_{u\\in\\mathbb{R}^{p_{0}}}(||X\\beta-X_{0}u||^{2})}$$\n",
    "**$MSE_{bias}$ decreases when a new variable is added in $X_{0}$, whether this new variable is useful or not.** This may be suprising, at least it was for me at the beginning, that when adding a new useless variable this term decreases."
   ]
  },
  {
   "cell_type": "code",
   "execution_count": 13,
   "metadata": {},
   "outputs": [
    {
     "data": {
      "application/javascript": [
       "\n",
       "            setTimeout(function() {\n",
       "                var nbb_cell_id = 13;\n",
       "                var nbb_unformatted_code = \"# parameters\\nalpha = 0  # since we are in a frequentist approach without regularization\\nn_exp = 10\\n\\n# initialization\\nmse_mean_observed_list = []\\nmse_expected_list = []\\nmse_bias_list = []\\nmse_mean_observed_var_list = []\\nmse_expected_var_list = []\\np0_list = []\\n\\n# loop over an increasing number of independent variables\\nfor nb_x in range(1, X.shape[1] + 1):\\n    x_cols = list(range(nb_x))\\n\\n    p0, X0, biases, _ = get_common_results(X, x_cols, X_beta, alpha, sigma_noise)\\n    p0_list.append(p0)\\n\\n    y_hat_list, mse_list = make_experimentation(\\n        n_exp, sigma_noise, m, X_beta, X0, alpha\\n    )\\n\\n    mse_mean_observed_list.append(np.mean(mse_list))\\n    mse_expected_list.append(np.sum(biases ** 2) + sigma_noise ** 2 * p0)\\n    mse_bias_list.append(np.sum(biases ** 2))\\n    mse_mean_observed_var_list.append(np.mean(mse_list) - np.sum(biases ** 2))\\n    mse_expected_var_list.append(sigma_noise ** 2 * p0)\";\n",
       "                var nbb_formatted_code = \"# parameters\\nalpha = 0  # since we are in a frequentist approach without regularization\\nn_exp = 10\\n\\n# initialization\\nmse_mean_observed_list = []\\nmse_expected_list = []\\nmse_bias_list = []\\nmse_mean_observed_var_list = []\\nmse_expected_var_list = []\\np0_list = []\\n\\n# loop over an increasing number of independent variables\\nfor nb_x in range(1, X.shape[1] + 1):\\n    x_cols = list(range(nb_x))\\n\\n    p0, X0, biases, _ = get_common_results(X, x_cols, X_beta, alpha, sigma_noise)\\n    p0_list.append(p0)\\n\\n    y_hat_list, mse_list = make_experimentation(\\n        n_exp, sigma_noise, m, X_beta, X0, alpha\\n    )\\n\\n    mse_mean_observed_list.append(np.mean(mse_list))\\n    mse_expected_list.append(np.sum(biases ** 2) + sigma_noise ** 2 * p0)\\n    mse_bias_list.append(np.sum(biases ** 2))\\n    mse_mean_observed_var_list.append(np.mean(mse_list) - np.sum(biases ** 2))\\n    mse_expected_var_list.append(sigma_noise ** 2 * p0)\";\n",
       "                var nbb_cells = Jupyter.notebook.get_cells();\n",
       "                for (var i = 0; i < nbb_cells.length; ++i) {\n",
       "                    if (nbb_cells[i].input_prompt_number == nbb_cell_id) {\n",
       "                        if (nbb_cells[i].get_text() == nbb_unformatted_code) {\n",
       "                             nbb_cells[i].set_text(nbb_formatted_code);\n",
       "                        }\n",
       "                        break;\n",
       "                    }\n",
       "                }\n",
       "            }, 500);\n",
       "            "
      ],
      "text/plain": [
       "<IPython.core.display.Javascript object>"
      ]
     },
     "metadata": {},
     "output_type": "display_data"
    }
   ],
   "source": [
    "# parameters\n",
    "alpha = 0  # since we are in a frequentist approach without regularization\n",
    "n_exp = 10\n",
    "\n",
    "# initialization\n",
    "mse_mean_observed_list = []\n",
    "mse_expected_list = []\n",
    "mse_bias_list = []\n",
    "mse_mean_observed_var_list = []\n",
    "mse_expected_var_list = []\n",
    "p0_list = []\n",
    "\n",
    "# loop over an increasing number of independent variables\n",
    "for nb_x in range(1, X.shape[1] + 1):\n",
    "    x_cols = list(range(nb_x))\n",
    "\n",
    "    p0, X0, biases, _ = get_common_results(X, x_cols, X_beta, alpha, sigma_noise)\n",
    "    p0_list.append(p0)\n",
    "\n",
    "    y_hat_list, mse_list = make_experimentation(\n",
    "        n_exp, sigma_noise, m, X_beta, X0, alpha\n",
    "    )\n",
    "\n",
    "    mse_mean_observed_list.append(np.mean(mse_list))\n",
    "    mse_expected_list.append(np.sum(biases ** 2) + sigma_noise ** 2 * p0)\n",
    "    mse_bias_list.append(np.sum(biases ** 2))\n",
    "    mse_mean_observed_var_list.append(np.mean(mse_list) - np.sum(biases ** 2))\n",
    "    mse_expected_var_list.append(sigma_noise ** 2 * p0)"
   ]
  },
  {
   "cell_type": "code",
   "execution_count": 14,
   "metadata": {},
   "outputs": [
    {
     "data": {
      "image/png": "[encoded data removed]",
      "text/plain": [
       "<Figure size 720x432 with 1 Axes>"
      ]
     },
     "metadata": {
      "needs_background": "light"
     },
     "output_type": "display_data"
    },
    {
     "data": {
      "application/javascript": [
       "\n",
       "            setTimeout(function() {\n",
       "                var nbb_cell_id = 14;\n",
       "                var nbb_unformatted_code = \"linestyle_bias = \\\"-\\\"\\nlinestyle_var = \\\":\\\"\\nlinestyle_total = \\\"--\\\"\\ncolor_expected_val = \\\"tab:blue\\\"\\ncolor_observed_mean = \\\"tab:orange\\\"\\n\\nfig, ax = plt.subplots(figsize=(10, 6))\\nax.plot(\\n    p0_list,\\n    mse_mean_observed_list,\\n    label=\\\"average observed MSE\\\",\\n    linestyle=linestyle_total,\\n    color=color_observed_mean,\\n)\\nax.plot(\\n    p0_list,\\n    mse_expected_list,\\n    label=\\\"expected MSE\\\",\\n    linestyle=linestyle_total,\\n    color=color_expected_val,\\n)\\nax.plot(\\n    p0_list,\\n    mse_bias_list,\\n    label=\\\"||biases||\\u00b2\\\",\\n    linestyle=linestyle_bias,\\n    color=color_expected_val,\\n)\\nax.plot(\\n    p0_list,\\n    mse_mean_observed_var_list,\\n    label=\\\"average observed ||var||\\u00b2\\\",\\n    linestyle=linestyle_var,\\n    color=color_observed_mean,\\n)\\nax.plot(\\n    p0_list,\\n    mse_expected_var_list,\\n    label=\\\"expected ||var||\\u00b2\\\",\\n    linestyle=linestyle_var,\\n    color=color_expected_val,\\n)\\nax.set_xlabel(\\\"p0 []\\\")\\nax.set_ylabel(\\\"MSE []\\\")\\nax.legend()\\nax.grid()\\nplt.show()\";\n",
       "                var nbb_formatted_code = \"linestyle_bias = \\\"-\\\"\\nlinestyle_var = \\\":\\\"\\nlinestyle_total = \\\"--\\\"\\ncolor_expected_val = \\\"tab:blue\\\"\\ncolor_observed_mean = \\\"tab:orange\\\"\\n\\nfig, ax = plt.subplots(figsize=(10, 6))\\nax.plot(\\n    p0_list,\\n    mse_mean_observed_list,\\n    label=\\\"average observed MSE\\\",\\n    linestyle=linestyle_total,\\n    color=color_observed_mean,\\n)\\nax.plot(\\n    p0_list,\\n    mse_expected_list,\\n    label=\\\"expected MSE\\\",\\n    linestyle=linestyle_total,\\n    color=color_expected_val,\\n)\\nax.plot(\\n    p0_list,\\n    mse_bias_list,\\n    label=\\\"||biases||\\u00b2\\\",\\n    linestyle=linestyle_bias,\\n    color=color_expected_val,\\n)\\nax.plot(\\n    p0_list,\\n    mse_mean_observed_var_list,\\n    label=\\\"average observed ||var||\\u00b2\\\",\\n    linestyle=linestyle_var,\\n    color=color_observed_mean,\\n)\\nax.plot(\\n    p0_list,\\n    mse_expected_var_list,\\n    label=\\\"expected ||var||\\u00b2\\\",\\n    linestyle=linestyle_var,\\n    color=color_expected_val,\\n)\\nax.set_xlabel(\\\"p0 []\\\")\\nax.set_ylabel(\\\"MSE []\\\")\\nax.legend()\\nax.grid()\\nplt.show()\";\n",
       "                var nbb_cells = Jupyter.notebook.get_cells();\n",
       "                for (var i = 0; i < nbb_cells.length; ++i) {\n",
       "                    if (nbb_cells[i].input_prompt_number == nbb_cell_id) {\n",
       "                        if (nbb_cells[i].get_text() == nbb_unformatted_code) {\n",
       "                             nbb_cells[i].set_text(nbb_formatted_code);\n",
       "                        }\n",
       "                        break;\n",
       "                    }\n",
       "                }\n",
       "            }, 500);\n",
       "            "
      ],
      "text/plain": [
       "<IPython.core.display.Javascript object>"
      ]
     },
     "metadata": {},
     "output_type": "display_data"
    }
   ],
   "source": [
    "linestyle_bias = \"-\"\n",
    "linestyle_var = \":\"\n",
    "linestyle_total = \"--\"\n",
    "color_expected_val = \"tab:blue\"\n",
    "color_observed_mean = \"tab:orange\"\n",
    "\n",
    "fig, ax = plt.subplots(figsize=(10, 6))\n",
    "ax.plot(\n",
    "    p0_list,\n",
    "    mse_mean_observed_list,\n",
    "    label=\"average observed MSE\",\n",
    "    linestyle=linestyle_total,\n",
    "    color=color_observed_mean,\n",
    ")\n",
    "ax.plot(\n",
    "    p0_list,\n",
    "    mse_expected_list,\n",
    "    label=\"expected MSE\",\n",
    "    linestyle=linestyle_total,\n",
    "    color=color_expected_val,\n",
    ")\n",
    "ax.plot(\n",
    "    p0_list,\n",
    "    mse_bias_list,\n",
    "    label=\"||biases||²\",\n",
    "    linestyle=linestyle_bias,\n",
    "    color=color_expected_val,\n",
    ")\n",
    "ax.plot(\n",
    "    p0_list,\n",
    "    mse_mean_observed_var_list,\n",
    "    label=\"average observed ||var||²\",\n",
    "    linestyle=linestyle_var,\n",
    "    color=color_observed_mean,\n",
    ")\n",
    "ax.plot(\n",
    "    p0_list,\n",
    "    mse_expected_var_list,\n",
    "    label=\"expected ||var||²\",\n",
    "    linestyle=linestyle_var,\n",
    "    color=color_expected_val,\n",
    ")\n",
    "ax.set_xlabel(\"p0 []\")\n",
    "ax.set_ylabel(\"MSE []\")\n",
    "ax.legend()\n",
    "ax.grid()\n",
    "plt.show()"
   ]
  },
  {
   "cell_type": "markdown",
   "metadata": {},
   "source": [
    "As shown on the figure, the bias term of MSE decreases when new variables are added. Conversely the variance term increases. When increasing the number of experimentations, the average of observed values converge to the expected one. Surprisingly, even when an useless variable is added, the bias decreases and the variance increases."
   ]
  },
  {
   "cell_type": "markdown",
   "metadata": {},
   "source": [
    "### Bayesian approach\n",
    "In the bayesian approach, the results are the following:\n",
    "$$\\hat{\\beta_{0}}=(X_{0}^{T}X_{0}+\\alpha I)^{-1}X_{0}^{T}Y$$\n",
    "$$\\hat{Y_{0}}=X_{0}\\hat{\\beta_{0}}=X_{0}(X_{0}^{T}X_{0}+\\alpha I)^{-1}X_{0}^{T}Y$$\n",
    "The expected value of $\\hat{Y_{0}}$ is then:\n",
    "$$E[\\hat{Y_{0}}]=X_{0}(X_{0}^{T}X_{0}+\\alpha I)^{-1}X_{0}^{T}X\\beta$$\n",
    "\n",
    "Since $X_{0}^{T}X_{0}$ is symmetric, positive and definite (since all variables are assumed to be linearly independent), it can be diagonalized by an orthogonal matrix: $X_{0}^{T}X_{0}=PDP^{T}$. Thus, we can perform similarly on $X_{0}^{T}X_{0}+\\alpha I$ by means of the same orthogonal matrix: $X_{0}^{T}X_{0}+\\alpha I=P(D+\\alpha I)P^{T}$.\n",
    "\n",
    "___\n",
    "* **$MSE_{var}$**\n",
    "\n",
    "Let's compare the variance term in the bayesian approach vs in the frequentist approach.\n",
    "$$\\begin{align}\n",
    "\\hat{Y_{0}} - E[\\hat{Y_{0}}] &= X_{0}(X_{0}^{T}X_{0}+\\alpha I)^{-1}X_{0}^{T}Y - E[\\hat{Y_{0}}]\\\\\n",
    "&= X_{0}(X_{0}^{T}X_{0}+\\alpha I)^{-1}X_{0}^{T}\\epsilon\\\\\n",
    "&= X_{0}P(D+\\alpha I)^{-1}P^{T}X_{0}^{T}\\epsilon\n",
    "\\end{align}$$\n",
    "\n",
    "Then:\n",
    "$$\\begin{align}\n",
    "||\\hat{Y_{0}} - E[\\hat{Y_{0}}]||^{2} &= (X_{0}P(D+\\alpha I)^{-1}P^{T}X_{0}^{T}\\epsilon)^{T}(X_{0}P(D+\\alpha I)^{-1}P^{T}X_{0}^{T}\\epsilon)\\\\\n",
    "&=\\epsilon^{T}X_{0}P(D+\\alpha I)^{-1}D(D+\\alpha I)^{-1}P^{T}X_{0}^{T}\\epsilon\n",
    "\\end{align}$$\n",
    "\n",
    "Hence, the expected value is (because $E[\\epsilon_{i}\\epsilon_{j}]=\\delta_{ij}\\sigma^{2}$):\n",
    "$$\\boxed{\n",
    "\\begin{align}\n",
    "E[||\\hat{Y_{0}} - E[\\hat{Y_{0}}]||^{2}]&=\\sum_{i=1}^{p_{0}}\\frac{D_{i,i}}{(D_{i,i}+\\alpha)^{2}}E[((P^{T}X_{0}^{T}\\epsilon)_{i})^{2}]\\\\\n",
    "&=\\sum_{i=1}^{p_{0}}\\frac{D_{i,i}}{(D_{i,i}+\\alpha)^{2}}\\sum_{j=1}^{m}((P^{T}X_{0}^{T})_{i,j})^{2}E[\\epsilon_{j}^{2}]\\\\\n",
    "&=\\sum_{i=1}^{p_{0}}\\frac{D_{i,i}}{(D_{i,i}+\\alpha)^{2}}\\sum_{j=1}^{m}((P^{T}X_{0}^{T})_{i,j})^{2}\\sigma ^{2}\n",
    "\\end{align}\n",
    "}$$\n",
    "\n",
    "In the frequentist approach we had:\n",
    "$$\\begin{align}\n",
    "||\\hat{Y_{0}} - E[\\hat{Y_{0}}]||^{2} &= (X_{0}(X_{0}^{T}X_{0})^{-1}X_{0}^{T}\\epsilon)^{T}(X_{0}(X_{0}^{T}X_{0})^{-1}X_{0}^{T}\\epsilon)\\\\\n",
    "&= \\epsilon^{T}X_{0}PD^{-1}P^{T}X_{0}^{T}\\epsilon\n",
    "\\end{align}$$\n",
    "\n",
    "And the expected value was:\n",
    "$$\\boxed{\n",
    "\\begin{align}\n",
    "E[||\\hat{Y_{0}} - E[\\hat{Y_{0}}]||^{2}] &= \\sum_{i=1}^{p_{0}}\\frac{1}{D_{i,i}}E[((P^{T}X_{0}^{T}\\epsilon)_{i})^{2}] \\\\\n",
    "&= \\sum_{i=1}^{p_{0}}\\frac{1}{D_{i,i}}\\sum_{j=1}^{m}((P^{T}X_{0}^{T})_{i,j})^{2}\\sigma ^{2}\n",
    "\\end{align}\n",
    "}$$\n",
    "\n",
    "Moreover:\n",
    "$$\\begin{align}\n",
    "\\forall i: \\frac{D_{i,i}}{(D_{i,i}+\\alpha)^{2}}-\\frac{1}{D_{i,i}} = \\frac{D_{i,i}^{2}-(D_{i,i}+\\alpha)^{2}}{(D_{i,i}+\\alpha)^{2}D_{i,i}} < 0\n",
    "\\end{align}$$\n",
    "\n",
    "**Thus the variance term of the MSE is lower in the bayesian approach than in the frequentist one.** It seem to increase when adding new feature. However I wasn't able to proove it.\n",
    "$$\\boxed{MSE_{var}^{bayesian}<MSE_{var}^{frequentist}}$$\n",
    "\n",
    "___\n",
    "* **$MSE_{bias}$**\n",
    "\n",
    "Let derive the bias term of the MSE:\n",
    "$$\\begin{align}\n",
    "||E[\\hat{Y_{0}}] - X\\beta||^{2} &= ||(X_{0}(X_{0}^{T}X_{0}+\\alpha I)^{-1}X_{0}^{T}-I)X\\beta||^{2}\\\\\n",
    "&= ||X\\beta||^{2} - 2\\beta^{T}X^{T}X_{0}(X_{0}^{T}X_{0}+\\alpha I)^{-1}X_{0}^{T}X\\beta + \\beta^{T}X^{T}X_{0}(X_{0}^{T}X_{0}+\\alpha I)^{-1}X_{0}^{T}X_{0}(X_{0}^{T}X_{0}+\\alpha I)^{-1}X_{0}^{T}X\\beta\\\\\n",
    "&= ||X\\beta||^{2} + \\beta^{T}X^{T}X_{0}P((D+\\alpha I)^{-1}D(D+\\alpha I)^{-1}-2(D+\\alpha I)^{-1})P^{T}X_{0}X\\beta\\\\\n",
    "\\end{align}$$\n",
    "In the frequentist approach that was:\n",
    "$$||E[\\hat{Y_{0}}] - X\\beta||^{2} = ||X\\beta||^{2} + \\beta^{T}X^{T}X_{0}P(-D^{-1})P^{T}X\\beta$$\n",
    "\n",
    "Subtituing the frequentist term to the bayesian one gives:\n",
    "$$||E[\\hat{Y_{0}}] - X\\beta||^{2}_{bay} - ||E[\\hat{Y_{0}}] - X\\beta||^{2}_{freq} = \\beta^{T}X^{T}X_{0}P((D+\\alpha I)^{-1}D(D+\\alpha I)^{-1}-2(D+\\alpha I)-(-D^{-1})P^{T}X\\beta$$\n",
    "\n",
    "Moreover:\n",
    "$$\\begin{align}\n",
    "\\forall i: \\frac{D_{i,i}}{(D_{i,i}+\\alpha)^{2}} - 2\\frac{1}{D_{i,i}+\\alpha} - -\\frac{1}{D_{i,i}} &= \\frac{D_{i,i}^{2}-2D_{i,i}(D_{i,i}+\\alpha)+(D_{i,i}+\\alpha)^{2}}{(D_{i,i}+\\alpha)^{2}D_{i,i}} \\\\\n",
    "&= \\frac{\\alpha^{2}}{(D_{i,i}+\\alpha)^{2}D_{i,i}} > 0\n",
    "\\end{align}$$\n",
    "\n",
    "**Thus the bias term of the MSE is greater in the bayesian approach than in the frequentist one. It can increase when adding feature.**\n",
    "$$\\boxed{MSE_{bias}^{bayesian}>MSE_{bias}^{frequentist}}$$\n"
   ]
  },
  {
   "cell_type": "code",
   "execution_count": 15,
   "metadata": {},
   "outputs": [
    {
     "data": {
      "application/javascript": [
       "\n",
       "            setTimeout(function() {\n",
       "                var nbb_cell_id = 15;\n",
       "                var nbb_unformatted_code = \"# parameters\\nalpha = 40  # since we are in a bayesian approach with regularization\\nn_exp = 10\\n\\n# initialization\\nmse_mean_observed_list = []\\nmse_expected_list = []\\nmse_bias_list = []\\nmse_mean_observed_var_list = []\\nmse_expected_var_list = []\\np0_list = []\\n\\n# loop over an increasing number of independent variables\\nfor nb_x in range(1, X.shape[1] + 1):\\n    x_cols = list(range(nb_x))\\n\\n    p0, X0, biases, _ = get_common_results(X, x_cols, X_beta, alpha, sigma_noise)\\n    p0_list.append(p0)\\n    mse_var = get_expected_mse_var_term(X0, alpha, p0)\\n\\n    y_hat_list, mse_list = make_experimentation(\\n        n_exp, sigma_noise, m, X_beta, X0, alpha\\n    )\\n\\n    mse_mean_observed_list.append(np.mean(mse_list))\\n    mse_expected_list.append(np.sum(biases ** 2) + sigma_noise ** 2 * mse_var)\\n    mse_bias_list.append(np.sum(biases ** 2))\\n    mse_mean_observed_var_list.append(np.mean(mse_list) - np.sum(biases ** 2))\\n    mse_expected_var_list.append(sigma_noise ** 2 * mse_var)\";\n",
       "                var nbb_formatted_code = \"# parameters\\nalpha = 40  # since we are in a bayesian approach with regularization\\nn_exp = 10\\n\\n# initialization\\nmse_mean_observed_list = []\\nmse_expected_list = []\\nmse_bias_list = []\\nmse_mean_observed_var_list = []\\nmse_expected_var_list = []\\np0_list = []\\n\\n# loop over an increasing number of independent variables\\nfor nb_x in range(1, X.shape[1] + 1):\\n    x_cols = list(range(nb_x))\\n\\n    p0, X0, biases, _ = get_common_results(X, x_cols, X_beta, alpha, sigma_noise)\\n    p0_list.append(p0)\\n    mse_var = get_expected_mse_var_term(X0, alpha, p0)\\n\\n    y_hat_list, mse_list = make_experimentation(\\n        n_exp, sigma_noise, m, X_beta, X0, alpha\\n    )\\n\\n    mse_mean_observed_list.append(np.mean(mse_list))\\n    mse_expected_list.append(np.sum(biases ** 2) + sigma_noise ** 2 * mse_var)\\n    mse_bias_list.append(np.sum(biases ** 2))\\n    mse_mean_observed_var_list.append(np.mean(mse_list) - np.sum(biases ** 2))\\n    mse_expected_var_list.append(sigma_noise ** 2 * mse_var)\";\n",
       "                var nbb_cells = Jupyter.notebook.get_cells();\n",
       "                for (var i = 0; i < nbb_cells.length; ++i) {\n",
       "                    if (nbb_cells[i].input_prompt_number == nbb_cell_id) {\n",
       "                        if (nbb_cells[i].get_text() == nbb_unformatted_code) {\n",
       "                             nbb_cells[i].set_text(nbb_formatted_code);\n",
       "                        }\n",
       "                        break;\n",
       "                    }\n",
       "                }\n",
       "            }, 500);\n",
       "            "
      ],
      "text/plain": [
       "<IPython.core.display.Javascript object>"
      ]
     },
     "metadata": {},
     "output_type": "display_data"
    }
   ],
   "source": [
    "# parameters\n",
    "alpha = 40  # since we are in a bayesian approach with regularization\n",
    "n_exp = 10\n",
    "\n",
    "# initialization\n",
    "mse_mean_observed_list = []\n",
    "mse_expected_list = []\n",
    "mse_bias_list = []\n",
    "mse_mean_observed_var_list = []\n",
    "mse_expected_var_list = []\n",
    "p0_list = []\n",
    "\n",
    "# loop over an increasing number of independent variables\n",
    "for nb_x in range(1, X.shape[1] + 1):\n",
    "    x_cols = list(range(nb_x))\n",
    "\n",
    "    p0, X0, biases, _ = get_common_results(X, x_cols, X_beta, alpha, sigma_noise)\n",
    "    p0_list.append(p0)\n",
    "    mse_var = get_expected_mse_var_term(X0, alpha, p0)\n",
    "\n",
    "    y_hat_list, mse_list = make_experimentation(\n",
    "        n_exp, sigma_noise, m, X_beta, X0, alpha\n",
    "    )\n",
    "\n",
    "    mse_mean_observed_list.append(np.mean(mse_list))\n",
    "    mse_expected_list.append(np.sum(biases ** 2) + sigma_noise ** 2 * mse_var)\n",
    "    mse_bias_list.append(np.sum(biases ** 2))\n",
    "    mse_mean_observed_var_list.append(np.mean(mse_list) - np.sum(biases ** 2))\n",
    "    mse_expected_var_list.append(sigma_noise ** 2 * mse_var)"
   ]
  },
  {
   "cell_type": "code",
   "execution_count": 16,
   "metadata": {},
   "outputs": [
    {
     "data": {
      "text/plain": [
       "array([ 6.30113893e+00,  4.44247294e+00, -2.07992967e+02, -8.36648842e+01,\n",
       "       -1.74190485e+03, -5.22794376e-02, -1.75823544e-01])"
      ]
     },
     "execution_count": 16,
     "metadata": {},
     "output_type": "execute_result"
    },
    {
     "data": {
      "application/javascript": [
       "\n",
       "            setTimeout(function() {\n",
       "                var nbb_cell_id = 16;\n",
       "                var nbb_unformatted_code = \"np.diff(mse_bias_list)\";\n",
       "                var nbb_formatted_code = \"np.diff(mse_bias_list)\";\n",
       "                var nbb_cells = Jupyter.notebook.get_cells();\n",
       "                for (var i = 0; i < nbb_cells.length; ++i) {\n",
       "                    if (nbb_cells[i].input_prompt_number == nbb_cell_id) {\n",
       "                        if (nbb_cells[i].get_text() == nbb_unformatted_code) {\n",
       "                             nbb_cells[i].set_text(nbb_formatted_code);\n",
       "                        }\n",
       "                        break;\n",
       "                    }\n",
       "                }\n",
       "            }, 500);\n",
       "            "
      ],
      "text/plain": [
       "<IPython.core.display.Javascript object>"
      ]
     },
     "metadata": {},
     "output_type": "display_data"
    }
   ],
   "source": [
    "np.diff(mse_bias_list)"
   ]
  },
  {
   "cell_type": "code",
   "execution_count": 17,
   "metadata": {},
   "outputs": [
    {
     "data": {
      "image/png": "[encoded data removed]",
      "text/plain": [
       "<Figure size 720x432 with 1 Axes>"
      ]
     },
     "metadata": {
      "needs_background": "light"
     },
     "output_type": "display_data"
    },
    {
     "data": {
      "application/javascript": [
       "\n",
       "            setTimeout(function() {\n",
       "                var nbb_cell_id = 17;\n",
       "                var nbb_unformatted_code = \"linestyle_bias = \\\"-\\\"\\nlinestyle_var = \\\":\\\"\\nlinestyle_total = \\\"--\\\"\\ncolor_expected_val = \\\"tab:blue\\\"\\ncolor_observed_mean = \\\"tab:orange\\\"\\n\\nfig, ax = plt.subplots(figsize=(10, 6))\\nax.plot(\\n    p0_list,\\n    mse_mean_observed_list,\\n    label=\\\"average observed MSE\\\",\\n    linestyle=linestyle_total,\\n    color=color_observed_mean,\\n)\\nax.plot(\\n    p0_list,\\n    mse_expected_list,\\n    label=\\\"expected MSE\\\",\\n    linestyle=linestyle_total,\\n    color=color_expected_val,\\n)\\nax.plot(\\n    p0_list,\\n    mse_bias_list,\\n    label=\\\"||biases||\\u00b2\\\",\\n    linestyle=linestyle_bias,\\n    color=color_expected_val,\\n)\\nax.plot(\\n    p0_list,\\n    mse_mean_observed_var_list,\\n    label=\\\"average observed ||var||\\u00b2\\\",\\n    linestyle=linestyle_var,\\n    color=color_observed_mean,\\n)\\nax.plot(\\n    p0_list,\\n    mse_expected_var_list,\\n    label=\\\"expected ||var||\\u00b2\\\",\\n    linestyle=linestyle_var,\\n    color=color_expected_val,\\n)\\nax.set_xlabel(\\\"p0 []\\\")\\nax.set_ylabel(\\\"MSE []\\\")\\nax.legend()\\nax.grid()\\nplt.show()\";\n",
       "                var nbb_formatted_code = \"linestyle_bias = \\\"-\\\"\\nlinestyle_var = \\\":\\\"\\nlinestyle_total = \\\"--\\\"\\ncolor_expected_val = \\\"tab:blue\\\"\\ncolor_observed_mean = \\\"tab:orange\\\"\\n\\nfig, ax = plt.subplots(figsize=(10, 6))\\nax.plot(\\n    p0_list,\\n    mse_mean_observed_list,\\n    label=\\\"average observed MSE\\\",\\n    linestyle=linestyle_total,\\n    color=color_observed_mean,\\n)\\nax.plot(\\n    p0_list,\\n    mse_expected_list,\\n    label=\\\"expected MSE\\\",\\n    linestyle=linestyle_total,\\n    color=color_expected_val,\\n)\\nax.plot(\\n    p0_list,\\n    mse_bias_list,\\n    label=\\\"||biases||\\u00b2\\\",\\n    linestyle=linestyle_bias,\\n    color=color_expected_val,\\n)\\nax.plot(\\n    p0_list,\\n    mse_mean_observed_var_list,\\n    label=\\\"average observed ||var||\\u00b2\\\",\\n    linestyle=linestyle_var,\\n    color=color_observed_mean,\\n)\\nax.plot(\\n    p0_list,\\n    mse_expected_var_list,\\n    label=\\\"expected ||var||\\u00b2\\\",\\n    linestyle=linestyle_var,\\n    color=color_expected_val,\\n)\\nax.set_xlabel(\\\"p0 []\\\")\\nax.set_ylabel(\\\"MSE []\\\")\\nax.legend()\\nax.grid()\\nplt.show()\";\n",
       "                var nbb_cells = Jupyter.notebook.get_cells();\n",
       "                for (var i = 0; i < nbb_cells.length; ++i) {\n",
       "                    if (nbb_cells[i].input_prompt_number == nbb_cell_id) {\n",
       "                        if (nbb_cells[i].get_text() == nbb_unformatted_code) {\n",
       "                             nbb_cells[i].set_text(nbb_formatted_code);\n",
       "                        }\n",
       "                        break;\n",
       "                    }\n",
       "                }\n",
       "            }, 500);\n",
       "            "
      ],
      "text/plain": [
       "<IPython.core.display.Javascript object>"
      ]
     },
     "metadata": {},
     "output_type": "display_data"
    }
   ],
   "source": [
    "linestyle_bias = \"-\"\n",
    "linestyle_var = \":\"\n",
    "linestyle_total = \"--\"\n",
    "color_expected_val = \"tab:blue\"\n",
    "color_observed_mean = \"tab:orange\"\n",
    "\n",
    "fig, ax = plt.subplots(figsize=(10, 6))\n",
    "ax.plot(\n",
    "    p0_list,\n",
    "    mse_mean_observed_list,\n",
    "    label=\"average observed MSE\",\n",
    "    linestyle=linestyle_total,\n",
    "    color=color_observed_mean,\n",
    ")\n",
    "ax.plot(\n",
    "    p0_list,\n",
    "    mse_expected_list,\n",
    "    label=\"expected MSE\",\n",
    "    linestyle=linestyle_total,\n",
    "    color=color_expected_val,\n",
    ")\n",
    "ax.plot(\n",
    "    p0_list,\n",
    "    mse_bias_list,\n",
    "    label=\"||biases||²\",\n",
    "    linestyle=linestyle_bias,\n",
    "    color=color_expected_val,\n",
    ")\n",
    "ax.plot(\n",
    "    p0_list,\n",
    "    mse_mean_observed_var_list,\n",
    "    label=\"average observed ||var||²\",\n",
    "    linestyle=linestyle_var,\n",
    "    color=color_observed_mean,\n",
    ")\n",
    "ax.plot(\n",
    "    p0_list,\n",
    "    mse_expected_var_list,\n",
    "    label=\"expected ||var||²\",\n",
    "    linestyle=linestyle_var,\n",
    "    color=color_expected_val,\n",
    ")\n",
    "ax.set_xlabel(\"p0 []\")\n",
    "ax.set_ylabel(\"MSE []\")\n",
    "ax.legend()\n",
    "ax.grid()\n",
    "plt.show()"
   ]
  },
  {
   "cell_type": "markdown",
   "metadata": {},
   "source": [
    "When increasing the number of experimentations, the average of observed values converge to the expected one."
   ]
  },
  {
   "cell_type": "markdown",
   "metadata": {},
   "source": [
    "### Comparison frequentist vs bayesian approaches"
   ]
  },
  {
   "cell_type": "code",
   "execution_count": 18,
   "metadata": {},
   "outputs": [
    {
     "data": {
      "application/javascript": [
       "\n",
       "            setTimeout(function() {\n",
       "                var nbb_cell_id = 18;\n",
       "                var nbb_unformatted_code = \"# parameters\\nalpha_freq = 0\\nalpha_bay = 40\\nn_exp = 20\\n\\n# initialization\\nmse_freq_expected_list = []\\nmse_freq_bias_list = []\\nmse_freq_expected_var_list = []\\nmse_bay_mean_observed_list = []\\nmse_bay_bias_list = []\\nmse_bay_mean_observed_var_list = []\\np0_list = []\\n\\n# loop over an increasing number of independent variables\\nfor nb_x in range(1, X.shape[1] + 1):\\n    x_cols = list(range(nb_x))\\n\\n    # frequentist approach\\n    p0, X0, biases, _ = get_common_results(X, x_cols, X_beta, alpha_freq, sigma_noise)\\n    p0_list.append(p0)\\n\\n    y_hat_list, mse_list = make_experimentation(\\n        n_exp, sigma_noise, m, X_beta, X0, alpha\\n    )\\n\\n    mse_freq_expected_list.append(np.sum(biases ** 2) + sigma_noise ** 2 * p0)\\n    mse_freq_bias_list.append(np.sum(biases ** 2))\\n    mse_freq_expected_var_list.append(sigma_noise ** 2 * p0)\\n\\n    # bayesian approach\\n    p0, X0, biases, _ = get_common_results(X, x_cols, X_beta, alpha_bay, sigma_noise)\\n\\n    y_hat_list, mse_list = make_experimentation(\\n        n_exp, sigma_noise, m, X_beta, X0, alpha\\n    )\\n\\n    mse_bay_mean_observed_list.append(\\n        np.sum(biases ** 2)\\n        + sigma_noise ** 2 * get_expected_mse_var_term(X0, alpha_bay, p0)\\n    )\\n    mse_bay_bias_list.append(np.sum(biases ** 2))\\n    mse_bay_mean_observed_var_list.append(\\n        sigma_noise ** 2 * get_expected_mse_var_term(X0, alpha_bay, p0)\\n    )\";\n",
       "                var nbb_formatted_code = \"# parameters\\nalpha_freq = 0\\nalpha_bay = 40\\nn_exp = 20\\n\\n# initialization\\nmse_freq_expected_list = []\\nmse_freq_bias_list = []\\nmse_freq_expected_var_list = []\\nmse_bay_mean_observed_list = []\\nmse_bay_bias_list = []\\nmse_bay_mean_observed_var_list = []\\np0_list = []\\n\\n# loop over an increasing number of independent variables\\nfor nb_x in range(1, X.shape[1] + 1):\\n    x_cols = list(range(nb_x))\\n\\n    # frequentist approach\\n    p0, X0, biases, _ = get_common_results(X, x_cols, X_beta, alpha_freq, sigma_noise)\\n    p0_list.append(p0)\\n\\n    y_hat_list, mse_list = make_experimentation(\\n        n_exp, sigma_noise, m, X_beta, X0, alpha\\n    )\\n\\n    mse_freq_expected_list.append(np.sum(biases ** 2) + sigma_noise ** 2 * p0)\\n    mse_freq_bias_list.append(np.sum(biases ** 2))\\n    mse_freq_expected_var_list.append(sigma_noise ** 2 * p0)\\n\\n    # bayesian approach\\n    p0, X0, biases, _ = get_common_results(X, x_cols, X_beta, alpha_bay, sigma_noise)\\n\\n    y_hat_list, mse_list = make_experimentation(\\n        n_exp, sigma_noise, m, X_beta, X0, alpha\\n    )\\n\\n    mse_bay_mean_observed_list.append(\\n        np.sum(biases ** 2)\\n        + sigma_noise ** 2 * get_expected_mse_var_term(X0, alpha_bay, p0)\\n    )\\n    mse_bay_bias_list.append(np.sum(biases ** 2))\\n    mse_bay_mean_observed_var_list.append(\\n        sigma_noise ** 2 * get_expected_mse_var_term(X0, alpha_bay, p0)\\n    )\";\n",
       "                var nbb_cells = Jupyter.notebook.get_cells();\n",
       "                for (var i = 0; i < nbb_cells.length; ++i) {\n",
       "                    if (nbb_cells[i].input_prompt_number == nbb_cell_id) {\n",
       "                        if (nbb_cells[i].get_text() == nbb_unformatted_code) {\n",
       "                             nbb_cells[i].set_text(nbb_formatted_code);\n",
       "                        }\n",
       "                        break;\n",
       "                    }\n",
       "                }\n",
       "            }, 500);\n",
       "            "
      ],
      "text/plain": [
       "<IPython.core.display.Javascript object>"
      ]
     },
     "metadata": {},
     "output_type": "display_data"
    }
   ],
   "source": [
    "# parameters\n",
    "alpha_freq = 0\n",
    "alpha_bay = 40\n",
    "n_exp = 20\n",
    "\n",
    "# initialization\n",
    "mse_freq_expected_list = []\n",
    "mse_freq_bias_list = []\n",
    "mse_freq_expected_var_list = []\n",
    "mse_bay_mean_observed_list = []\n",
    "mse_bay_bias_list = []\n",
    "mse_bay_mean_observed_var_list = []\n",
    "p0_list = []\n",
    "\n",
    "# loop over an increasing number of independent variables\n",
    "for nb_x in range(1, X.shape[1] + 1):\n",
    "    x_cols = list(range(nb_x))\n",
    "\n",
    "    # frequentist approach\n",
    "    p0, X0, biases, _ = get_common_results(X, x_cols, X_beta, alpha_freq, sigma_noise)\n",
    "    p0_list.append(p0)\n",
    "\n",
    "    y_hat_list, mse_list = make_experimentation(\n",
    "        n_exp, sigma_noise, m, X_beta, X0, alpha\n",
    "    )\n",
    "\n",
    "    mse_freq_expected_list.append(np.sum(biases ** 2) + sigma_noise ** 2 * p0)\n",
    "    mse_freq_bias_list.append(np.sum(biases ** 2))\n",
    "    mse_freq_expected_var_list.append(sigma_noise ** 2 * p0)\n",
    "\n",
    "    # bayesian approach\n",
    "    p0, X0, biases, _ = get_common_results(X, x_cols, X_beta, alpha_bay, sigma_noise)\n",
    "\n",
    "    y_hat_list, mse_list = make_experimentation(\n",
    "        n_exp, sigma_noise, m, X_beta, X0, alpha\n",
    "    )\n",
    "\n",
    "    mse_bay_mean_observed_list.append(\n",
    "        np.sum(biases ** 2)\n",
    "        + sigma_noise ** 2 * get_expected_mse_var_term(X0, alpha_bay, p0)\n",
    "    )\n",
    "    mse_bay_bias_list.append(np.sum(biases ** 2))\n",
    "    mse_bay_mean_observed_var_list.append(\n",
    "        sigma_noise ** 2 * get_expected_mse_var_term(X0, alpha_bay, p0)\n",
    "    )"
   ]
  },
  {
   "cell_type": "code",
   "execution_count": 19,
   "metadata": {},
   "outputs": [
    {
     "data": {
      "image/png": "[encoded data removed]",
      "text/plain": [
       "<Figure size 720x432 with 1 Axes>"
      ]
     },
     "metadata": {
      "needs_background": "light"
     },
     "output_type": "display_data"
    },
    {
     "data": {
      "application/javascript": [
       "\n",
       "            setTimeout(function() {\n",
       "                var nbb_cell_id = 19;\n",
       "                var nbb_unformatted_code = \"color_freq = \\\"tab:blue\\\"\\ncolor_bay = \\\"tab:orange\\\"\\nlinestyle_bias = \\\"-\\\"\\nlinestyle_var = \\\":\\\"\\nlinestyle_total = \\\"--\\\"\\n\\nfig, ax = plt.subplots(figsize=(10, 6))\\nax.plot(\\n    p0_list,\\n    mse_freq_expected_list,\\n    label=\\\"frequentist expected MSE\\\",\\n    color=color_freq,\\n    linestyle=linestyle_total,\\n)\\nax.plot(\\n    p0_list,\\n    mse_freq_bias_list,\\n    label=\\\"frequentist ||biases||\\u00b2\\\",\\n    color=color_freq,\\n    linestyle=linestyle_bias,\\n)\\nax.plot(\\n    p0_list,\\n    mse_freq_expected_var_list,\\n    label=\\\"frequentist expected ||var||\\u00b2\\\",\\n    color=color_freq,\\n    linestyle=linestyle_var,\\n)\\nax.plot(\\n    p0_list,\\n    mse_bay_mean_observed_list,\\n    label=\\\"bayesian expected MSE\\\",\\n    color=color_bay,\\n    linestyle=linestyle_total,\\n)\\nax.plot(\\n    p0_list,\\n    mse_bay_bias_list,\\n    label=\\\"bayesian ||biases||\\u00b2\\\",\\n    color=color_bay,\\n    linestyle=linestyle_bias,\\n)\\nax.plot(\\n    p0_list,\\n    mse_bay_mean_observed_var_list,\\n    label=\\\"bayesian expected ||var||\\u00b2\\\",\\n    color=color_bay,\\n    linestyle=linestyle_var,\\n)\\nax.set_xlabel(\\\"number of explanatory variables\\\")\\nax.set_ylabel(\\\"MSE\\\")\\nax.legend()\\nax.grid()\\nplt.show()\";\n",
       "                var nbb_formatted_code = \"color_freq = \\\"tab:blue\\\"\\ncolor_bay = \\\"tab:orange\\\"\\nlinestyle_bias = \\\"-\\\"\\nlinestyle_var = \\\":\\\"\\nlinestyle_total = \\\"--\\\"\\n\\nfig, ax = plt.subplots(figsize=(10, 6))\\nax.plot(\\n    p0_list,\\n    mse_freq_expected_list,\\n    label=\\\"frequentist expected MSE\\\",\\n    color=color_freq,\\n    linestyle=linestyle_total,\\n)\\nax.plot(\\n    p0_list,\\n    mse_freq_bias_list,\\n    label=\\\"frequentist ||biases||\\u00b2\\\",\\n    color=color_freq,\\n    linestyle=linestyle_bias,\\n)\\nax.plot(\\n    p0_list,\\n    mse_freq_expected_var_list,\\n    label=\\\"frequentist expected ||var||\\u00b2\\\",\\n    color=color_freq,\\n    linestyle=linestyle_var,\\n)\\nax.plot(\\n    p0_list,\\n    mse_bay_mean_observed_list,\\n    label=\\\"bayesian expected MSE\\\",\\n    color=color_bay,\\n    linestyle=linestyle_total,\\n)\\nax.plot(\\n    p0_list,\\n    mse_bay_bias_list,\\n    label=\\\"bayesian ||biases||\\u00b2\\\",\\n    color=color_bay,\\n    linestyle=linestyle_bias,\\n)\\nax.plot(\\n    p0_list,\\n    mse_bay_mean_observed_var_list,\\n    label=\\\"bayesian expected ||var||\\u00b2\\\",\\n    color=color_bay,\\n    linestyle=linestyle_var,\\n)\\nax.set_xlabel(\\\"number of explanatory variables\\\")\\nax.set_ylabel(\\\"MSE\\\")\\nax.legend()\\nax.grid()\\nplt.show()\";\n",
       "                var nbb_cells = Jupyter.notebook.get_cells();\n",
       "                for (var i = 0; i < nbb_cells.length; ++i) {\n",
       "                    if (nbb_cells[i].input_prompt_number == nbb_cell_id) {\n",
       "                        if (nbb_cells[i].get_text() == nbb_unformatted_code) {\n",
       "                             nbb_cells[i].set_text(nbb_formatted_code);\n",
       "                        }\n",
       "                        break;\n",
       "                    }\n",
       "                }\n",
       "            }, 500);\n",
       "            "
      ],
      "text/plain": [
       "<IPython.core.display.Javascript object>"
      ]
     },
     "metadata": {},
     "output_type": "display_data"
    }
   ],
   "source": [
    "color_freq = \"tab:blue\"\n",
    "color_bay = \"tab:orange\"\n",
    "linestyle_bias = \"-\"\n",
    "linestyle_var = \":\"\n",
    "linestyle_total = \"--\"\n",
    "\n",
    "fig, ax = plt.subplots(figsize=(10, 6))\n",
    "ax.plot(\n",
    "    p0_list,\n",
    "    mse_freq_expected_list,\n",
    "    label=\"frequentist expected MSE\",\n",
    "    color=color_freq,\n",
    "    linestyle=linestyle_total,\n",
    ")\n",
    "ax.plot(\n",
    "    p0_list,\n",
    "    mse_freq_bias_list,\n",
    "    label=\"frequentist ||biases||²\",\n",
    "    color=color_freq,\n",
    "    linestyle=linestyle_bias,\n",
    ")\n",
    "ax.plot(\n",
    "    p0_list,\n",
    "    mse_freq_expected_var_list,\n",
    "    label=\"frequentist expected ||var||²\",\n",
    "    color=color_freq,\n",
    "    linestyle=linestyle_var,\n",
    ")\n",
    "ax.plot(\n",
    "    p0_list,\n",
    "    mse_bay_mean_observed_list,\n",
    "    label=\"bayesian expected MSE\",\n",
    "    color=color_bay,\n",
    "    linestyle=linestyle_total,\n",
    ")\n",
    "ax.plot(\n",
    "    p0_list,\n",
    "    mse_bay_bias_list,\n",
    "    label=\"bayesian ||biases||²\",\n",
    "    color=color_bay,\n",
    "    linestyle=linestyle_bias,\n",
    ")\n",
    "ax.plot(\n",
    "    p0_list,\n",
    "    mse_bay_mean_observed_var_list,\n",
    "    label=\"bayesian expected ||var||²\",\n",
    "    color=color_bay,\n",
    "    linestyle=linestyle_var,\n",
    ")\n",
    "ax.set_xlabel(\"number of explanatory variables\")\n",
    "ax.set_ylabel(\"MSE\")\n",
    "ax.legend()\n",
    "ax.grid()\n",
    "plt.show()"
   ]
  },
  {
   "cell_type": "markdown",
   "metadata": {},
   "source": [
    "As shown on the figure, the bias term of MSE of the regularized model is always greater than the one of the OLS. Conversely the variance term of MSE of the regularized model is always lower than the one of the OLS."
   ]
  },
  {
   "cell_type": "markdown",
   "metadata": {},
   "source": [
    "___\n",
    "# Bias and variance analysis for a single estimator\n",
    "In this section, let's focus on a single estimator $\\hat{Y_{0}}=(X_{0}\\hat{\\beta})_{i} = X_{0i,.}\\hat{\\beta}$, and not the entire parameter estimator vector $X_{0}\\hat{\\beta}$."
   ]
  },
  {
   "cell_type": "markdown",
   "metadata": {},
   "source": [
    "## Frequentist approach\n",
    "I was only able to demonstrate that the variance of a single prediction increases when new variables are added. However, I cannot say anything about the bias. It can increase or decrease. Noting $u$ a vector with a single 1 for the desired index:\n",
    "$$\\hat{Y}_{0i}=u^{T}\\hat{Y_{0}} \\sim \\mathcal{N}(E[\\hat{Y}_{0i}], \\sigma^{2}u^{T}X_{0}(X_{0}^{T}X_{0})^{-1}X_{0}^{T}u)$$\n",
    "Since $X_{0}(X_{0}^{T}X_{0})^{-1}X_{0}^{T}$ is a projector (let's note it $P_{X_{0}}$, which verifies $P_{X_{0}}P_{X_{0}}=P_{X_{0}}=P_{X_{0}}^{T}$), then:\n",
    "$$u^{T}X_{0}(X_{0}^{T}X_{0})^{-1}X_{0}^{T}u = u^{T}P_{X_{0}}u = u^{T}P_{X_{0}}^{T}P_{X_{0}}u = ||P_{X_{0}}u||^{2}$$\n",
    "Thanks to Pythagore, we know that:\n",
    "$$\\boxed{\\begin{align}\n",
    "||P_{X_{0}}u||^{2} &= ||u||^{2} - ||(I-P_{X_{0}})u||^{2}\\\\\n",
    "&= ||u||^{2} - \\min\\limits_{v\\in\\mathbb{R}^{p_{0}}}(||u-X_{0}v||^{2})\n",
    "\\end{align}}$$\n",
    "Thus, adding a new variables to $X_{0}$ can only lead to a decrease of the second term, $\\min\\limits_{v\\in\\mathbb{R}^{p_{0}}}(||u-X_{0}v||^{2})$, which is an increase of $||P_{X_{0}}u||^{2}$. **When adding a new variable, the variance of a single prediction increases.** This is actually true for any $u$ and if $X_{0}$ is full rank, then this is true any variable vector $x$ and not only the observation of the training dataset.\n",
    "$$\\forall x\\in {R}^{p_{0}} \\exists u\\in {R}^{m} : X_{0}^{T}u=x$$"
   ]
  },
  {
   "cell_type": "code",
   "execution_count": 20,
   "metadata": {},
   "outputs": [
    {
     "data": {
      "application/javascript": [
       "\n",
       "            setTimeout(function() {\n",
       "                var nbb_cell_id = 20;\n",
       "                var nbb_unformatted_code = \"# parameters\\nalpha = 0  # since we are in a frequentist approach without regularization\\nindex = 2\\n\\n# initialization\\nbias_list = []\\nvariance_list = []\\np0_list = []\\n\\n# loop over an increasing number of independent variables\\nfor nb_x in range(1, X.shape[1] + 1):\\n    x_cols = list(range(nb_x))\\n\\n    p0, X0, biases, cov_mat = get_common_results(X, x_cols, X_beta, alpha, sigma_noise)\\n    p0_list.append(p0)\\n    bias_list.append(biases[index])\\n    variance_list.append(cov_mat[index, index])\";\n",
       "                var nbb_formatted_code = \"# parameters\\nalpha = 0  # since we are in a frequentist approach without regularization\\nindex = 2\\n\\n# initialization\\nbias_list = []\\nvariance_list = []\\np0_list = []\\n\\n# loop over an increasing number of independent variables\\nfor nb_x in range(1, X.shape[1] + 1):\\n    x_cols = list(range(nb_x))\\n\\n    p0, X0, biases, cov_mat = get_common_results(X, x_cols, X_beta, alpha, sigma_noise)\\n    p0_list.append(p0)\\n    bias_list.append(biases[index])\\n    variance_list.append(cov_mat[index, index])\";\n",
       "                var nbb_cells = Jupyter.notebook.get_cells();\n",
       "                for (var i = 0; i < nbb_cells.length; ++i) {\n",
       "                    if (nbb_cells[i].input_prompt_number == nbb_cell_id) {\n",
       "                        if (nbb_cells[i].get_text() == nbb_unformatted_code) {\n",
       "                             nbb_cells[i].set_text(nbb_formatted_code);\n",
       "                        }\n",
       "                        break;\n",
       "                    }\n",
       "                }\n",
       "            }, 500);\n",
       "            "
      ],
      "text/plain": [
       "<IPython.core.display.Javascript object>"
      ]
     },
     "metadata": {},
     "output_type": "display_data"
    }
   ],
   "source": [
    "# parameters\n",
    "alpha = 0  # since we are in a frequentist approach without regularization\n",
    "index = 2\n",
    "\n",
    "# initialization\n",
    "bias_list = []\n",
    "variance_list = []\n",
    "p0_list = []\n",
    "\n",
    "# loop over an increasing number of independent variables\n",
    "for nb_x in range(1, X.shape[1] + 1):\n",
    "    x_cols = list(range(nb_x))\n",
    "\n",
    "    p0, X0, biases, cov_mat = get_common_results(X, x_cols, X_beta, alpha, sigma_noise)\n",
    "    p0_list.append(p0)\n",
    "    bias_list.append(biases[index])\n",
    "    variance_list.append(cov_mat[index, index])"
   ]
  },
  {
   "cell_type": "code",
   "execution_count": 21,
   "metadata": {},
   "outputs": [
    {
     "data": {
      "image/png": "[encoded data removed]",
      "text/plain": [
       "<Figure size 720x432 with 1 Axes>"
      ]
     },
     "metadata": {
      "needs_background": "light"
     },
     "output_type": "display_data"
    },
    {
     "data": {
      "application/javascript": [
       "\n",
       "            setTimeout(function() {\n",
       "                var nbb_cell_id = 21;\n",
       "                var nbb_unformatted_code = \"fig, ax = plt.subplots(figsize=(10, 6))\\nax.plot(p0_list, np.abs(bias_list), label=\\\"|bias|\\\")\\nax.plot(p0_list, variance_list, label=\\\"variance\\\")\\nax.set_xlabel(\\\"p0 []\\\")\\nax.set_ylabel(\\\"bias / variance\\\")\\nax.legend()\\nax.grid()\\nplt.show()\";\n",
       "                var nbb_formatted_code = \"fig, ax = plt.subplots(figsize=(10, 6))\\nax.plot(p0_list, np.abs(bias_list), label=\\\"|bias|\\\")\\nax.plot(p0_list, variance_list, label=\\\"variance\\\")\\nax.set_xlabel(\\\"p0 []\\\")\\nax.set_ylabel(\\\"bias / variance\\\")\\nax.legend()\\nax.grid()\\nplt.show()\";\n",
       "                var nbb_cells = Jupyter.notebook.get_cells();\n",
       "                for (var i = 0; i < nbb_cells.length; ++i) {\n",
       "                    if (nbb_cells[i].input_prompt_number == nbb_cell_id) {\n",
       "                        if (nbb_cells[i].get_text() == nbb_unformatted_code) {\n",
       "                             nbb_cells[i].set_text(nbb_formatted_code);\n",
       "                        }\n",
       "                        break;\n",
       "                    }\n",
       "                }\n",
       "            }, 500);\n",
       "            "
      ],
      "text/plain": [
       "<IPython.core.display.Javascript object>"
      ]
     },
     "metadata": {},
     "output_type": "display_data"
    }
   ],
   "source": [
    "fig, ax = plt.subplots(figsize=(10, 6))\n",
    "ax.plot(p0_list, np.abs(bias_list), label=\"|bias|\")\n",
    "ax.plot(p0_list, variance_list, label=\"variance\")\n",
    "ax.set_xlabel(\"p0 []\")\n",
    "ax.set_ylabel(\"bias / variance\")\n",
    "ax.legend()\n",
    "ax.grid()\n",
    "plt.show()"
   ]
  },
  {
   "cell_type": "markdown",
   "metadata": {},
   "source": [
    "As shown on the figure, the variance of a single estimation can only increase when adding new variables. Whereas there is not a similar rule for the bias. In this case the bias get worse when adding the second, third and fourth variables that are both useful and useless."
   ]
  },
  {
   "cell_type": "markdown",
   "metadata": {},
   "source": [
    "## Comparison frequentist vs bayesian approaches\n",
    "We can only demonstrate that the variance is lower than in the frequentist approach. Nothing can be said regarding the bias. Following the same notation, we have:\n",
    "$$\\hat{Y}_{0i}=u^{T}\\hat{Y_{0}} \\sim \\mathcal{N}(E[\\hat{Y}_{0i}], \\sigma^{2}u^{T}X_{0}(X_{0}^{T}X_{0} + \\alpha I)^{-1}X_{0}^{T}X_{0}(X_{0}^{T}X_{0} + \\alpha I)^{-1}X_{0}^{T}u)$$\n",
    "Like previously, we can show that:\n",
    "$$\n",
    "u^{T}X_{0}(X_{0}^{T}X_{0} + \\alpha I)^{-1}X_{0}^{T}X_{0}(X_{0}^{T}X_{0} + \\alpha I)^{-1}X_{0}^{T}u - u^{T}X_{0}(X_{0}^{T}X_{0})^{-1}X_{0}^{T}u = u^{T}X_{0}P(D(D+\\alpha I)^{-2}-D^{-1})P^{T}X_{0}^{T}u\n",
    "$$\n",
    "And:\n",
    "$$\\begin{align}\n",
    "\\forall i:(D(D+\\alpha I)^{-2}-D^{-1})_{i,i} &= \\frac{D_{i,i}}{(D_{i,i}+\\alpha)^{2}}-\\frac{1}{D_{i,i}}\\\\\n",
    "&= \\frac{D_{i,i}^{2}-(D_{i,i}+\\alpha)^{2}}{D_{i,i}(D_{i,i}+\\alpha)^{2}} < 0\n",
    "\\end{align}$$\n",
    "**The variance of a single prediction is then always lower in the bayesian approach than in the frequentist approach.**"
   ]
  },
  {
   "cell_type": "code",
   "execution_count": 22,
   "metadata": {},
   "outputs": [
    {
     "data": {
      "application/javascript": [
       "\n",
       "            setTimeout(function() {\n",
       "                var nbb_cell_id = 22;\n",
       "                var nbb_unformatted_code = \"# parameters\\nalpha_freq = 0\\nalpha_bay = 40\\nindex = 2\\n\\n# initialization\\nbias_freq_list = []\\nvariance_freq_list = []\\nbias_bay_list = []\\nvariance_bay_list = []\\np0_list = []\\n\\n# loop over an increasing number of independent variables\\nfor nb_x in range(1, X.shape[1] + 1):\\n    x_cols = list(range(nb_x))\\n\\n    # frequentist approach\\n    p0, X0, biases, cov_mat = get_common_results(\\n        X, x_cols, X_beta, alpha_freq, sigma_noise\\n    )\\n    p0_list.append(p0)\\n    bias_freq_list.append(biases[index])\\n    variance_freq_list.append(cov_mat[index, index])\\n\\n    # bayesian approach\\n    p0, X0, biases, cov_mat = get_common_results(\\n        X, x_cols, X_beta, alpha_bay, sigma_noise\\n    )\\n    bias_bay_list.append(biases[index])\\n    variance_bay_list.append(cov_mat[index, index])\";\n",
       "                var nbb_formatted_code = \"# parameters\\nalpha_freq = 0\\nalpha_bay = 40\\nindex = 2\\n\\n# initialization\\nbias_freq_list = []\\nvariance_freq_list = []\\nbias_bay_list = []\\nvariance_bay_list = []\\np0_list = []\\n\\n# loop over an increasing number of independent variables\\nfor nb_x in range(1, X.shape[1] + 1):\\n    x_cols = list(range(nb_x))\\n\\n    # frequentist approach\\n    p0, X0, biases, cov_mat = get_common_results(\\n        X, x_cols, X_beta, alpha_freq, sigma_noise\\n    )\\n    p0_list.append(p0)\\n    bias_freq_list.append(biases[index])\\n    variance_freq_list.append(cov_mat[index, index])\\n\\n    # bayesian approach\\n    p0, X0, biases, cov_mat = get_common_results(\\n        X, x_cols, X_beta, alpha_bay, sigma_noise\\n    )\\n    bias_bay_list.append(biases[index])\\n    variance_bay_list.append(cov_mat[index, index])\";\n",
       "                var nbb_cells = Jupyter.notebook.get_cells();\n",
       "                for (var i = 0; i < nbb_cells.length; ++i) {\n",
       "                    if (nbb_cells[i].input_prompt_number == nbb_cell_id) {\n",
       "                        if (nbb_cells[i].get_text() == nbb_unformatted_code) {\n",
       "                             nbb_cells[i].set_text(nbb_formatted_code);\n",
       "                        }\n",
       "                        break;\n",
       "                    }\n",
       "                }\n",
       "            }, 500);\n",
       "            "
      ],
      "text/plain": [
       "<IPython.core.display.Javascript object>"
      ]
     },
     "metadata": {},
     "output_type": "display_data"
    }
   ],
   "source": [
    "# parameters\n",
    "alpha_freq = 0\n",
    "alpha_bay = 40\n",
    "index = 2\n",
    "\n",
    "# initialization\n",
    "bias_freq_list = []\n",
    "variance_freq_list = []\n",
    "bias_bay_list = []\n",
    "variance_bay_list = []\n",
    "p0_list = []\n",
    "\n",
    "# loop over an increasing number of independent variables\n",
    "for nb_x in range(1, X.shape[1] + 1):\n",
    "    x_cols = list(range(nb_x))\n",
    "\n",
    "    # frequentist approach\n",
    "    p0, X0, biases, cov_mat = get_common_results(\n",
    "        X, x_cols, X_beta, alpha_freq, sigma_noise\n",
    "    )\n",
    "    p0_list.append(p0)\n",
    "    bias_freq_list.append(biases[index])\n",
    "    variance_freq_list.append(cov_mat[index, index])\n",
    "\n",
    "    # bayesian approach\n",
    "    p0, X0, biases, cov_mat = get_common_results(\n",
    "        X, x_cols, X_beta, alpha_bay, sigma_noise\n",
    "    )\n",
    "    bias_bay_list.append(biases[index])\n",
    "    variance_bay_list.append(cov_mat[index, index])"
   ]
  },
  {
   "cell_type": "code",
   "execution_count": 23,
   "metadata": {},
   "outputs": [
    {
     "data": {
      "image/png": "[encoded data removed]",
      "text/plain": [
       "<Figure size 720x432 with 1 Axes>"
      ]
     },
     "metadata": {
      "needs_background": "light"
     },
     "output_type": "display_data"
    },
    {
     "data": {
      "application/javascript": [
       "\n",
       "            setTimeout(function() {\n",
       "                var nbb_cell_id = 23;\n",
       "                var nbb_unformatted_code = \"color_freq = \\\"tab:blue\\\"\\ncolor_bay = \\\"tab:orange\\\"\\nlinestyle_bias = \\\"-\\\"\\nlinestyle_var = \\\":\\\"\\n\\nfig, ax = plt.subplots(figsize=(10, 6))\\nax.plot(\\n    p0_list,\\n    np.abs(bias_freq_list),\\n    label=\\\"frequentist |bias|\\\",\\n    color=color_freq,\\n    linestyle=linestyle_bias,\\n)\\nax.plot(\\n    p0_list,\\n    variance_freq_list,\\n    label=\\\"frequentist variance\\\",\\n    color=color_freq,\\n    linestyle=linestyle_var,\\n)\\nax.plot(\\n    p0_list,\\n    np.abs(bias_bay_list),\\n    label=\\\"bayesian |bias|\\\",\\n    color=color_bay,\\n    linestyle=linestyle_bias,\\n)\\nax.plot(\\n    p0_list,\\n    variance_bay_list,\\n    label=\\\"bayesian variance\\\",\\n    color=color_bay,\\n    linestyle=linestyle_var,\\n)\\nax.set_xlabel(\\\"number of explanatory variables\\\")\\nax.set_ylabel(\\\"bias / variance\\\")\\nax.legend()\\nax.grid()\\nplt.show()\";\n",
       "                var nbb_formatted_code = \"color_freq = \\\"tab:blue\\\"\\ncolor_bay = \\\"tab:orange\\\"\\nlinestyle_bias = \\\"-\\\"\\nlinestyle_var = \\\":\\\"\\n\\nfig, ax = plt.subplots(figsize=(10, 6))\\nax.plot(\\n    p0_list,\\n    np.abs(bias_freq_list),\\n    label=\\\"frequentist |bias|\\\",\\n    color=color_freq,\\n    linestyle=linestyle_bias,\\n)\\nax.plot(\\n    p0_list,\\n    variance_freq_list,\\n    label=\\\"frequentist variance\\\",\\n    color=color_freq,\\n    linestyle=linestyle_var,\\n)\\nax.plot(\\n    p0_list,\\n    np.abs(bias_bay_list),\\n    label=\\\"bayesian |bias|\\\",\\n    color=color_bay,\\n    linestyle=linestyle_bias,\\n)\\nax.plot(\\n    p0_list,\\n    variance_bay_list,\\n    label=\\\"bayesian variance\\\",\\n    color=color_bay,\\n    linestyle=linestyle_var,\\n)\\nax.set_xlabel(\\\"number of explanatory variables\\\")\\nax.set_ylabel(\\\"bias / variance\\\")\\nax.legend()\\nax.grid()\\nplt.show()\";\n",
       "                var nbb_cells = Jupyter.notebook.get_cells();\n",
       "                for (var i = 0; i < nbb_cells.length; ++i) {\n",
       "                    if (nbb_cells[i].input_prompt_number == nbb_cell_id) {\n",
       "                        if (nbb_cells[i].get_text() == nbb_unformatted_code) {\n",
       "                             nbb_cells[i].set_text(nbb_formatted_code);\n",
       "                        }\n",
       "                        break;\n",
       "                    }\n",
       "                }\n",
       "            }, 500);\n",
       "            "
      ],
      "text/plain": [
       "<IPython.core.display.Javascript object>"
      ]
     },
     "metadata": {},
     "output_type": "display_data"
    }
   ],
   "source": [
    "color_freq = \"tab:blue\"\n",
    "color_bay = \"tab:orange\"\n",
    "linestyle_bias = \"-\"\n",
    "linestyle_var = \":\"\n",
    "\n",
    "fig, ax = plt.subplots(figsize=(10, 6))\n",
    "ax.plot(\n",
    "    p0_list,\n",
    "    np.abs(bias_freq_list),\n",
    "    label=\"frequentist |bias|\",\n",
    "    color=color_freq,\n",
    "    linestyle=linestyle_bias,\n",
    ")\n",
    "ax.plot(\n",
    "    p0_list,\n",
    "    variance_freq_list,\n",
    "    label=\"frequentist variance\",\n",
    "    color=color_freq,\n",
    "    linestyle=linestyle_var,\n",
    ")\n",
    "ax.plot(\n",
    "    p0_list,\n",
    "    np.abs(bias_bay_list),\n",
    "    label=\"bayesian |bias|\",\n",
    "    color=color_bay,\n",
    "    linestyle=linestyle_bias,\n",
    ")\n",
    "ax.plot(\n",
    "    p0_list,\n",
    "    variance_bay_list,\n",
    "    label=\"bayesian variance\",\n",
    "    color=color_bay,\n",
    "    linestyle=linestyle_var,\n",
    ")\n",
    "ax.set_xlabel(\"number of explanatory variables\")\n",
    "ax.set_ylabel(\"bias / variance\")\n",
    "ax.legend()\n",
    "ax.grid()\n",
    "plt.show()"
   ]
  },
  {
   "cell_type": "markdown",
   "metadata": {},
   "source": [
    "As shown on the figure, the variance of a single estimation is always lower in when there is a L2 regularization. However, there is no order between the biases between the two approaches for a single target estimation."
   ]
  },
  {
   "cell_type": "markdown",
   "metadata": {},
   "source": [
    "___\n",
    "# Conclusion\n",
    "\n",
    "In this notebook, I investigated the change of bias and variance of both a vector estimator and a scalar estimator of a linear regression model. When analyzing the vector estimators, two definitions have been considered (the scalar MSE and the matrix MSE). Finally, the results are summarized in the following table. The change of the bias and variance terms when adding explanatory variables are detailed in the table.\n",
    "\n",
    "| Estimator | Metric | Approach | Bias | Variance |\n",
    "| :---: | :---: | :---: | :---: | :---: |\n",
    "| vector | matrix | frequentist | - | $\\nearrow$ |\n",
    "| vector | matrix | bayesian | - | - |\n",
    "| vector | scalar | frequentist | $\\searrow$ | $\\nearrow$ |\n",
    "| vector | scalar | bayesian | > frequentist | < frequentist<br>$\\nearrow$? |\n",
    "| scalar | scalar | frequentist | - | $\\nearrow$ |\n",
    "| scalar | scalar | bayesian | - | < frequentist<br>$\\nearrow$? |"
   ]
  },
  {
   "cell_type": "code",
   "execution_count": null,
   "metadata": {},
   "outputs": [],
   "source": []
  }
 ],
 "metadata": {
  "kernelspec": {
   "display_name": "bias_variance_for_lin_reg",
   "language": "python",
   "name": "bias_variance_for_lin_reg"
  },
  "language_info": {
   "codemirror_mode": {
    "name": "ipython",
    "version": 3
   },
   "file_extension": ".py",
   "mimetype": "text/x-python",
   "name": "python",
   "nbconvert_exporter": "python",
   "pygments_lexer": "ipython3",
   "version": "3.8.13"
  },
  "toc": {
   "base_numbering": 1,
   "nav_menu": {},
   "number_sections": true,
   "sideBar": true,
   "skip_h1_title": false,
   "title_cell": "Table of Contents",
   "title_sidebar": "Contents",
   "toc_cell": false,
   "toc_position": {
    "height": "calc(100% - 180px)",
    "left": "10px",
    "top": "150px",
    "width": "356.6px"
   },
   "toc_section_display": true,
   "toc_window_display": true
  }
 },
 "nbformat": 4,
 "nbformat_minor": 4
}
